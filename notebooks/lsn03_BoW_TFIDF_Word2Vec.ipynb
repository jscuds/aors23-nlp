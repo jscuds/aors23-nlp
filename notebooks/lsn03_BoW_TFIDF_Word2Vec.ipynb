{
 "cells": [
  {
   "cell_type": "markdown",
   "metadata": {},
   "source": [
    "# Natural Language Processing Fundamentals (Day 3)\n",
    "\n",
    "**Goal:** Participants leave with \"lexical\" NLP skills to go from raw text data to insights to enable effective decision making.\n",
    "\n",
    "_Lexical Analysis: the meaning of a word in isolation from the sentence containing it._ \n",
    "\n",
    "_Semantic Analysis: determining what a sentence or phrase really means based on contextual clues._  \n",
    "\n",
    "**Day 1\\-2 Objectives:**\n",
    "\n",
    "1. ~~Understand common analytical tasks associated with NLP~~\n",
    "2. ~~Understand how text extraction can be completed~~\n",
    "3. ~~Understand and conduct common pre\\-processing NLP tasks \\(tokenization, spelling correction, stop word removal, stemming, lemmatization, casing, removal of digits / punctuation, etc.~~\n",
    "4. ~~Understand and complete common lexical NLP analytical tasks~~\n",
    "\n",
    "- <span style='font-size:small'>~~Part of Speech Tagging~~</span>\n",
    "- <span style='font-size:small'>~~N\\-gram formation~~</span>\n",
    "- <span style='font-size:small'>~~Sentiment Analysis \\(Bag of Words, lexicons \\(Vader, Bing, NRC, AFINN, Loughran\\)\\)~~</span>\n",
    "- <span style='font-size:small'>~~Basic \\(very\\) summarization of text~~</span>\n",
    "- <span style='font-size:small'>~~Basic \\(very\\) translation~~</span>\n",
    "- <span style='font-size:small'>~~Basic \\(very\\) classification~~</span>\n",
    "\n",
    "**Day 3 Objectives:**\n",
    "\n",
    "1. Finish understanding what \"Bag of Words\" is and what it can be used for\n",
    "2. Introduce TF\\-IDF and Word2Vec Embeddings\n",
    "3. Understand what is meant by vector representations of words\n",
    "4. Understand \"similarity\" measures \\(Euclidian Distance, dot product, cosine similarity\\)\n",
    "\n"
   ]
  },
  {
   "cell_type": "markdown",
   "metadata": {},
   "source": [
    "# The task at hand...\n",
    "\n",
    "Suppose for a moment, that the Math Department Head just received more than 1,500 student responses to a end of course survey. She is interested in what students perceive as HELPFUL and UNHELPFUL experiences. \n",
    "\n",
    "What kind of questions might she have?  \n",
    "\n"
   ]
  },
  {
   "cell_type": "code",
   "execution_count": 1,
   "metadata": {
    "collapsed": false,
    "jupyter": {
     "outputs_hidden": false
    }
   },
   "outputs": [],
   "source": [
    "import nltk\n",
    "import numpy\n",
    "import string\n",
    "import time\n",
    "import re\n",
    "import pandas as pd\n",
    "from textblob import TextBlob\n",
    "from vaderSentiment.vaderSentiment import SentimentIntensityAnalyzer #Valence Aware Dictionary for sEntiment Reasoning\n",
    "from nltk.tokenize import word_tokenize\n",
    "from gensim.models import Word2Vec, KeyedVectors\n",
    "import gensim.downloader as api"
   ]
  },
  {
   "cell_type": "markdown",
   "metadata": {},
   "source": [
    "## **Load Course End Feedback**\n",
    "\n",
    "The $\\texttt{pd.read\\_csv}$ command below captures preprocessing tasks completed during the last meetings: \n",
    "\n",
    "- Tokenization\n",
    "- Proper Noun Deidentification\n",
    "- Lower Casing \n",
    "- Removing Digits \n",
    "- Removing Punctuation\n",
    "- Removing Whitespace\n",
    "- Spell Checking \n",
    "- Optionally remove stopwords (create 2nd corpus)\n"
   ]
  },
  {
   "cell_type": "code",
   "execution_count": 2,
   "metadata": {
    "collapsed": false,
    "jupyter": {
     "outputs_hidden": false
    }
   },
   "outputs": [],
   "source": [
    "helpfulNew = pd.read_csv('../data/helpfulNew.csv',keep_default_na=False)\n",
    "helpfulNew.drop(columns=[\"Unnamed: 0\"], inplace = True)\n",
    "helpfulNew.head()\n",
    "helpfulNew = helpfulNew['text']"
   ]
  },
  {
   "cell_type": "markdown",
   "metadata": {},
   "source": [
    "### **Stopword Removal**\n",
    "\n",
    "This is the process of removing the words that are so common that they don't provide any value to understanding the text. Examples shown below.  \n",
    "\n"
   ]
  },
  {
   "cell_type": "code",
   "execution_count": 3,
   "metadata": {
    "collapsed": false,
    "jupyter": {
     "outputs_hidden": false
    }
   },
   "outputs": [],
   "source": [
    "from nltk.corpus import stopwords\n",
    "stop_words = stopwords.words('english')\n",
    "new_stopwords = [\"xxx\"]\n",
    "stop_words.extend(new_stopwords)\n",
    "\n",
    "# create another dataframe without stopwords: helpfulNewStop\n",
    "def removeStopWords(text,stop_words):\n",
    "    text_tokens = word_tokenize(text)\n",
    "    return ' '.join([w for w in text_tokens if not w in stop_words])\n",
    "\n",
    "helpfulNewStop = helpfulNew.apply(lambda x: removeStopWords(str(x),stop_words))\n",
    "# helpfulNewStop.head()\n",
    "# print(\"Before Stop Words: \", helpfulNew[1], \"\\n\\nAfter Stop Word Removal: \",helpfulNewStop[1])"
   ]
  },
  {
   "cell_type": "markdown",
   "metadata": {},
   "source": [
    "## **So what do we mean when we say Bag of Words?**\n",
    "_Adapted from [CS287: Deep Learning for NLP](https://harvard-iacs.github.io/CS287/schedule), a course offered in Fall 2021_\n",
    "\n",
    "Extracting the occurrence of words within a document. It is a \"bag\" since we disregard the structure of a given sentence or how words interact with each other.  A model only cares about what words are used \\- not the order in which they are used.   \n",
    "\n",
    "Now, we analyze our corpus by creating *vector representations* of each document. These vector representations will allow us to work with documents as numerical data, compare them to one another, and hopefully design a useful information retrieval system.  \n",
    "\n",
    "The first vector representation we will examine is **bag-of-words** (BoW). Here, in BoW, the dimension of each vector should represents the number of times a particular word occurs in a document.\n",
    "\n",
    "**Word Mapping**\n",
    "\n",
    "To start, we need to create a **vocabulary** that maps words to the indices of a vector. The `create_vocab()` function takes as input our `corpus` of strings and returns a dictionary that maps each unique word in the corpus to a unique integer *index*. The returned dictionary should satisfy the following properties:\n",
    "\n",
    "- Each word is mapped to a number between $0$ and $V - 1$, inclusive, where $V$ is the number of unique words in the corpus.\n",
    "- Words with higher frequency across the corpus should have smaller indices; i.e. the most frequent word should have index $0$ and the least frequent word should have index $V - 1$.  Ties are broken arbitrarily.\n",
    "\n"
   ]
  },
  {
   "cell_type": "code",
   "execution_count": 4,
   "metadata": {
    "collapsed": false,
    "jupyter": {
     "outputs_hidden": false
    }
   },
   "outputs": [],
   "source": [
    "# use tokenized `corpus` and create an indexed vocabulary of every word in the corpus\n",
    "# map words to indices of a vector to create a lookup table\n",
    "\n",
    "from collections import Counter\n",
    "from typing import Dict, List\n",
    "from pandas import Series\n",
    "\n",
    "def create_vocab(corpus: Series) -> Dict[str, int]:\n",
    "\n",
    "    # concatenate all responses to get a list of every token used in the corpus\n",
    "    all_words = corpus.str.cat(sep = ' ')\n",
    "    token_list = nltk.word_tokenize(all_words)\n",
    "\n",
    "    # use Counter to create dict of counts of all tokens\n",
    "    token_dict = Counter(token_list)\n",
    "\n",
    "    # make dict of {sorted **token_dict.most_common()** tokens : index}\n",
    "    index_dict = dict([(x[0],y) for (x,y) in zip(token_dict.most_common(),range(len(token_dict)))])\n",
    "\n",
    "    return index_dict\n"
   ]
  },
  {
   "cell_type": "code",
   "execution_count": 5,
   "metadata": {
    "collapsed": false,
    "jupyter": {
     "outputs_hidden": false
    }
   },
   "outputs": [
    {
     "name": "stdout",
     "output_type": "stream",
     "text": [
      "full vocab size: 796\n",
      "'the' index: 0\n",
      "'board' index: 19\n",
      "'problems' index: 12\n",
      "'are' index: 135\n",
      "'fun' index: 209\n"
     ]
    }
   ],
   "source": [
    "# sanity check cell\n",
    "full_vocab = create_vocab(helpfulNew)\n",
    "print(\"full vocab size:\", len(full_vocab))\n",
    "print(\"'the' index:\", full_vocab['the'])\n",
    "print(\"'board' index:\", full_vocab['board'])\n",
    "print(\"'problems' index:\", full_vocab['problems'])\n",
    "print(\"'are' index:\", full_vocab['are'])\n",
    "print(\"'fun' index:\", full_vocab['fun'])"
   ]
  },
  {
   "cell_type": "markdown",
   "metadata": {},
   "source": [
    "### **BoW Representations**\n",
    "\n",
    "Now, let's create the actual BoW representations. The function `create_bow()` does the following:\n",
    "- accepts two inputs: `tokenized_corpus` and the output from `create_vocab()`\n",
    "- it creates BoW representations for each comment and returns it\n",
    "- specifically, the output needs to be a dictionary mapping each document id to a NumPy array $\\vec x \\in \\mathbb{R}^V$, where $x_i$ is the number of times the word, whose index into the vocabulary is $i$, appears in the document. For example, if $i=0$ corresponds to \"the\", and \"the\" appears 17 times in the given document, then the 1st index of vector $\\vec x$ should be 17."
   ]
  },
  {
   "cell_type": "code",
   "execution_count": 6,
   "metadata": {
    "collapsed": false,
    "jupyter": {
     "outputs_hidden": false
    }
   },
   "outputs": [
    {
     "data": {
      "text/plain": [
       "0      [in, class, examples, were, great, for, xxx, x...\n",
       "1      [i, particularly, thought, getting, up, to, th...\n",
       "2      [every, time, we, would, go, to, boards, we, w...\n",
       "3                      [humor, that, motivate, learning]\n",
       "4      [during, almost, every, class, period, we, got...\n",
       "                             ...                        \n",
       "220    [when, the, xxx, was, in, the, classroom, we, ...\n",
       "221    [the, note, sheets, for, grade, assignment, we...\n",
       "222    [working, through, board, problems, helped, me...\n",
       "223    [using, your, tablet, to, write, all, the, not...\n",
       "224    [very, open, to, answering, difficult, questions]\n",
       "Name: text, Length: 225, dtype: object"
      ]
     },
     "execution_count": 6,
     "metadata": {},
     "output_type": "execute_result"
    }
   ],
   "source": [
    "tokenized_comments_helpful = helpfulNew.apply(lambda x: nltk.word_tokenize(str(x)))\n",
    "tokenized_comments_helpful"
   ]
  },
  {
   "cell_type": "code",
   "execution_count": 7,
   "metadata": {
    "collapsed": false,
    "jupyter": {
     "outputs_hidden": false
    }
   },
   "outputs": [],
   "source": [
    "# create BoW representations based on counts of words in each comment\n",
    "import numpy as np\n",
    "\n",
    "def create_bow(tokenized_corpus: Series, vocab: Dict[str, int]) -> Dict[int, np.ndarray]:\n",
    "\n",
    "    # empty dictionary to add {doc_id: bow_array} key,value pairs\n",
    "    doc_map = {}\n",
    "\n",
    "    # iterate through each comment by doc_id\n",
    "    for doc_id, tokens in tokenized_corpus.to_dict().items():\n",
    "        bow_array = np.zeros(len(vocab))#,dtype=int)\n",
    "        token_count = Counter(tokens)\n",
    "\n",
    "        # go through each word and match its count with the word's appropriate index\n",
    "        #    based on the `vocab` dictionary\n",
    "        for word,count in token_count.items():\n",
    "            #print(doc_id)\n",
    "            #if word != 'nan': # use this if your data contains nan\n",
    "            idx = vocab[word]\n",
    "            bow_array[idx] = count\n",
    "\n",
    "        # add the resultant {doc_id: bow_array} key,value pair to the returned dictionary\n",
    "        doc_map[doc_id] = bow_array\n",
    "\n",
    "    return doc_map"
   ]
  },
  {
   "cell_type": "code",
   "execution_count": 8,
   "metadata": {
    "collapsed": false,
    "jupyter": {
     "outputs_hidden": false
    }
   },
   "outputs": [
    {
     "name": "stdout",
     "output_type": "stream",
     "text": [
      "# keys: 225\n",
      "vocab size: 796\n",
      "[2. 0. 0. 1. 0. 0. 0. 0. 0. 0. 0. 1. 1. 0. 1. 0. 0. 0. 0. 0.]\n",
      "[0. 0. 1. 0. 0. 0. 0. 0. 0. 0. 0. 0. 1. 0. 0. 0. 0. 0. 0. 0.]\n"
     ]
    }
   ],
   "source": [
    "# sanity check\n",
    "full_bow = create_bow(tokenized_comments_helpful, full_vocab)\n",
    "print(\"# keys:\", len(full_bow.keys()))\n",
    "print(\"vocab size:\", len(full_bow[5]))\n",
    "print(full_bow[5][:20])\n",
    "print(full_bow[10][:20])"
   ]
  },
  {
   "cell_type": "code",
   "execution_count": 9,
   "metadata": {},
   "outputs": [
    {
     "name": "stdout",
     "output_type": "stream",
     "text": [
      "cosine similarity of comments 42 and 80: 0.19069251784911848\n",
      " * comment 42: the instructor really helped us through the project\n",
      " * comment 80: taking boards is always the best way to learn i believe\n",
      "\n",
      "\n",
      "\n",
      "cosine similarity of comments 77 and 188: 0.19399589841579265\n",
      " * 77: xxx xxx made us do a lot of board work every day to practice problems which helped me a lot she would then come by each students board and help correct them if needed\n",
      " * 188: doing real world problems associated with each lesson it really helped my understanding of how to actually apply the concepts we learned instead of just memorizing steps and functions\n"
     ]
    }
   ],
   "source": [
    "# use BoW with cosine similarity\n",
    "def cos_sim(doc1,doc2,doc_dict):\n",
    "    # get associated bow vectors of input docs\n",
    "    a = doc_dict[doc1]\n",
    "    b = doc_dict[doc2]\n",
    "\n",
    "    return np.dot(a,b)/(np.linalg.norm(a)*np.linalg.norm(b))\n",
    "\n",
    "print(f'cosine similarity of comments 42 and 80: {cos_sim(42,80,full_bow)}')\n",
    "print(f' * comment 42: {helpfulNew.loc[42]}')\n",
    "print(f' * comment 80: {helpfulNew.loc[80]}')\n",
    "print('\\n')\n",
    "\n",
    "print()\n",
    "\n",
    "# pick two other course comments to examine\n",
    "comment_1, comment_2 = 77, 188\n",
    "print(f'cosine similarity of comments {comment_1} and {comment_2}: {cos_sim(comment_1,comment_2,full_bow)}')\n",
    "print(f' * {comment_1}: {helpfulNew.loc[comment_1]}')\n",
    "print(f' * {comment_2}: {helpfulNew.loc[comment_2]}')"
   ]
  },
  {
   "cell_type": "code",
   "execution_count": 10,
   "metadata": {
    "collapsed": false,
    "jupyter": {
     "outputs_hidden": false
    }
   },
   "outputs": [
    {
     "name": "stdout",
     "output_type": "stream",
     "text": [
      " * comment 80: \t\t\ttaking boards is always the best way to learn i believe\n",
      " * contrived comment A: \ti think taking boards is the best way to learn in class\n",
      " * contrived comment B: \tassuming boards is most the greatest methods to understand problems i think\n",
      "\n",
      "cosine similarity of comments 80 and contrived example A: 0.7833494518006403\n",
      "cosine similarity of comments 80 and contrived example B: 0.4351941398892446\n"
     ]
    }
   ],
   "source": [
    "# Create a contrived string to show different cosine similarities\n",
    "# similar to comment 80: 'taking boards is always the best way to learn i believe'\n",
    "contrived_comment_a = 'i think taking boards is the best way to learn in class'\n",
    "contrived_comment_b = 'assuming boards is most the greatest methods to understand problems i think'\n",
    "contrived_tokenized_a = pd.Series(contrived_comment_a).apply(lambda x: nltk.word_tokenize(x))\n",
    "contrived_tokenized_b = pd.Series(contrived_comment_b).apply(lambda x: nltk.word_tokenize(x))\n",
    "contrived_bow_a = create_bow(contrived_tokenized_a, full_vocab)\n",
    "contrived_bow_b = create_bow(contrived_tokenized_b, full_vocab)\n",
    "\n",
    "# temporarily add contrived comment to `full_bow` dictionary\n",
    "full_bow['contrived_a'] = contrived_bow_a[0]\n",
    "full_bow['contrived_b'] = contrived_bow_b[0]\n",
    "\n",
    "print(f' * comment 80: \\t\\t\\t{helpfulNew.loc[80]}')\n",
    "print(f' * contrived comment A: \\t{contrived_comment_a}')\n",
    "print(f' * contrived comment B: \\t{contrived_comment_b}\\n')\n",
    "\n",
    "print(f'cosine similarity of comments 80 and contrived example A: {cos_sim(80,\"contrived_a\",full_bow)}')\n",
    "print(f'cosine similarity of comments 80 and contrived example B: {cos_sim(80,\"contrived_b\",full_bow)}')\n",
    "\n",
    "# # optionally remove contrived comment from `full_bow` dictionary\n",
    "# del full_bow['contrived_a']\n",
    "# del full_bow['contrived_b']"
   ]
  },
  {
   "cell_type": "code",
   "execution_count": 11,
   "metadata": {
    "collapsed": false,
    "jupyter": {
     "outputs_hidden": false
    }
   },
   "outputs": [
    {
     "name": "stdout",
     "output_type": "stream",
     "text": [
      "Original comment: the path project i learned a lot about modeling and real world solutions\n",
      "\n",
      "5 most similar comments based on Bag of Words cosine similarity:\n",
      " *  doing the path project\n",
      " *  the final path modeling day in this class used a lot of our skill in an advanced way but i still had a firm grasp on the material\n",
      " *  the experience of working in groups was one that i learned a lot from\n",
      " *  the xxx we worked with was helpful and very interesting and relevant to the material even though the projects we did took a long time i thought they supplemented the course well i also had not done path projects in the past it was strictly learning the material test and then the next topic\n",
      " *  i learned a lot since i was the only person who ever talked in class or asked any questions\n"
     ]
    }
   ],
   "source": [
    "def doc_sim(doc1, doc_dict, k=5):\n",
    "\n",
    "    cos_sim_dict = {}\n",
    "    for doc2 in doc_dict.keys():\n",
    "        if doc2 == doc1: \n",
    "            pass\n",
    "        else:\n",
    "            cos_sim_dict[doc2]=cos_sim(doc1,doc2,doc_dict)\n",
    "\n",
    "    # I used the following stackoverflow page to sort by dict value\n",
    "    #    https://stackoverflow.com/questions/613183/how-do-i-sort-a-dictionary-by-value\n",
    "\n",
    "    #  {doc_id: cos_sim to given doc}; sort by value REVERSE\n",
    "    sorted_dict = {k: v for k, v in sorted(cos_sim_dict.items(), key=lambda item: item[1],reverse=True)}\n",
    "\n",
    "    # resulting docids with closest cosine similarity\n",
    "    sorted_docids = [x for x,y in zip(sorted_dict.keys(),range(k))]\n",
    "\n",
    "\n",
    "    return sorted_docids \n",
    "\n",
    "# use function and print comments\n",
    "comment_entry = 51\n",
    "k=5\n",
    "bowsim = doc_sim(comment_entry,full_bow,k)\n",
    "print(f'Original comment: {helpfulNew.loc[comment_entry]}')\n",
    "print(f'\\n{k} most similar comments based on Bag of Words cosine similarity:')\n",
    "for d in bowsim:\n",
    "    print(f' *  {helpfulNew.loc[d]}')"
   ]
  },
  {
   "cell_type": "code",
   "execution_count": 12,
   "metadata": {
    "collapsed": false,
    "jupyter": {
     "outputs_hidden": false
    }
   },
   "outputs": [
    {
     "name": "stdout",
     "output_type": "stream",
     "text": [
      "total time = 0.20882821083068848\n"
     ]
    }
   ],
   "source": [
    "def avg_doc_sim(bow_dict):\n",
    "    '''\n",
    "    Input:   BOW dictionary of doc_id: np.array of BOW vector\n",
    "    Output:  a dictionary of doc_id:average cosine similarity across comments\n",
    "    '''\n",
    "    avg_doc_sim_dict = {}\n",
    "    num_docs = len(bow_dict.keys())\n",
    "\n",
    "    for doc1 in bow_dict.keys():\n",
    "        # reset accumulator of document similarities\n",
    "        docsim = 0\n",
    "        for doc2 in bow_dict.keys():\n",
    "            if doc2 == doc1:\n",
    "                pass\n",
    "            else:\n",
    "                # accumulate total document similarity values\n",
    "                docsim+=cos_sim(doc1,doc2,bow_dict)\n",
    "\n",
    "        avg_doc_sim_dict[doc1] = docsim/(num_docs-1)\n",
    "\n",
    "    return avg_doc_sim_dict\n",
    "\n",
    "t0 = time.time()\n",
    "avg_doc_sim_full = avg_doc_sim(full_bow)\n",
    "print(f'total time = {time.time()-t0}')"
   ]
  },
  {
   "cell_type": "code",
   "execution_count": 13,
   "metadata": {
    "collapsed": false,
    "jupyter": {
     "outputs_hidden": false
    }
   },
   "outputs": [
    {
     "data": {
      "image/png": "[encoded data removed]",
      "text/plain": [
       "<Figure size 640x480 with 1 Axes>"
      ]
     },
     "metadata": {},
     "output_type": "display_data"
    }
   ],
   "source": [
    "import matplotlib.pyplot as plt\n",
    "\n",
    "x=range(len(full_bow))\n",
    "x_labels = [x for x in avg_doc_sim_full.keys()]\n",
    "y = [x for x in avg_doc_sim_full.values()]\n",
    "\n",
    "plt.bar(x, y, color='green', align='center')\n",
    "plt.title('Average Document Similarity')\n",
    "plt.xticks([])\n",
    "plt.ylabel('Average Cosine Similarity')\n",
    "plt.xlabel('Individual Comments')\n",
    "plt.show()"
   ]
  },
  {
   "cell_type": "code",
   "execution_count": 14,
   "metadata": {
    "collapsed": false,
    "jupyter": {
     "outputs_hidden": false
    },
    "scrolled": true
   },
   "outputs": [
    {
     "name": "stdout",
     "output_type": "stream",
     "text": [
      "Comment with min cos sim:  40 with 0.000\n",
      "Comment with max cos sim:  97 with 0.326\n",
      "Average cos sim across all Comments:  0.175\n",
      "\n",
      "min cos_sim comment:\n",
      "  * shoots\n",
      "\n",
      "max cos_sim comment:\n",
      "  * any time xxx xxx would go over our reading or run though the processes we studied the night before really helped to cement the concept and course material into my head i found that the most important source in the class was the teacher and the xxx in a real and xxx xxx text book\n",
      "\n",
      "Lowest 10 cos_sim values:\tHighest 10 cos_sim values:\n",
      "0.000\t\t\t\t0.277\n",
      "0.002\t\t\t\t0.282\n",
      "0.004\t\t\t\t0.282\n",
      "0.004\t\t\t\t0.287\n",
      "0.022\t\t\t\t0.289\n",
      "0.027\t\t\t\t0.291\n",
      "0.031\t\t\t\t0.292\n",
      "0.035\t\t\t\t0.298\n",
      "0.042\t\t\t\t0.300\n",
      "0.045\t\t\t\t0.326\n"
     ]
    }
   ],
   "source": [
    "sort_y = sorted(y)\n",
    "\n",
    "loc_min_y = list(avg_doc_sim_full.keys())[list(avg_doc_sim_full.values()).index(min(y))]\n",
    "print(f'Comment with min cos sim:  {loc_min_y} with {min(y):.3f}')\n",
    "\n",
    "loc_max_y = list(avg_doc_sim_full.keys())[list(avg_doc_sim_full.values()).index(max(y))]\n",
    "print(f'Comment with max cos sim:  {loc_max_y} with {max(y):.3f}')\n",
    "\n",
    "print(f'Average cos sim across all Comments:  {np.mean(y):.3f}')\n",
    "\n",
    "print('\\nmin cos_sim comment:')\n",
    "print('  * '+helpfulNew.iloc[loc_min_y])\n",
    "print('\\nmax cos_sim comment:')\n",
    "print('  * '+helpfulNew.iloc[loc_max_y])\n",
    "\n",
    "print('\\nLowest 10 cos_sim values:\\tHighest 10 cos_sim values:')\n",
    "for i,j in zip(sort_y[:10],sort_y[-10:]):\n",
    "      print(f'{i:.3f}\\t\\t\\t\\t{j:.3f}')"
   ]
  },
  {
   "attachments": {},
   "cell_type": "markdown",
   "metadata": {},
   "source": [
    "Why do we have a comment that says \"shoots\"?"
   ]
  },
  {
   "cell_type": "code",
   "execution_count": 15,
   "metadata": {},
   "outputs": [
    {
     "name": "stdout",
     "output_type": "stream",
     "text": [
      "kahoot becomes shoot\n"
     ]
    }
   ],
   "source": [
    "# Show that TextBlob's spell checker corrected \"Kahoot\" to shoots\n",
    "test_string = 'kahoot'\n",
    "print(f'{test_string} becomes {str(TextBlob(test_string).correct())}')"
   ]
  },
  {
   "cell_type": "markdown",
   "metadata": {},
   "source": [
    "### **Create TF-IDF vectors**\n",
    "\n",
    "\n",
    "Instead of using BoW vectors with raw counts, let's try using term frequency-inverse document frequency (TF-IDF) vectors. Implement the `create_TFIDF()` function below. Its inputs and outputs are identical to `create_BoW()`:\n",
    "- accept two inputs: the output from `load_corpus()` (e.g., `samp_tokenized` or `full_tokenized`) and the output from `create_vocab()` (e.g., `samp_vocab` or `full_vocab`)\n",
    "- it creates TF-IDF representations for each comment and returns it. \n",
    "- specifically, the output needs to be a dictionary mapping each document id to a NumPy array $\\vec x \\in \\mathbb{R}^V$, where $x_i$ is the TF-IDF for the word whose index into the vocabulary is $i$."
   ]
  },
  {
   "cell_type": "code",
   "execution_count": 16,
   "metadata": {
    "collapsed": false,
    "jupyter": {
     "outputs_hidden": false
    }
   },
   "outputs": [],
   "source": [
    "def create_TFIDF(tokenized_texts: Dict[int, List[str]], vocab: Dict[str, int]) -> Dict[int, np.ndarray]:\n",
    "    \n",
    "    # use create_bow to get all word counts for each doc_id\n",
    "    bow_rep = create_bow(tokenized_texts,vocab)\n",
    "    doc_count = len(bow_rep)\n",
    "    \n",
    "    # From TF-IDF Slide\n",
    "    #    f_{w_i} = # times w_i appeared in document\n",
    "    #    TFIDF = f_{w_i} * log(# docs in corpus / # docs containing w_i)\n",
    "    \n",
    "    # make matrix `f_w` of all BoW vectors to count # of docs with w_i\n",
    "    f_w = []\n",
    "    for vect in bow_rep.values():\n",
    "        f_w.append(vect)\n",
    "    \n",
    "    f_w = np.array(f_w)\n",
    "    \n",
    "    # sum number of docs with each word by counting non-zero entries\n",
    "    #    np.count_nonzero(array, axis=0) will count non-zero entries in each column (\"across rows\")\n",
    "    word_by_doc = np.count_nonzero(f_w,axis=0)\n",
    "    idfs = np.log(doc_count/word_by_doc)\n",
    "    \n",
    "    # create dictionary with {comment_index: TF-IDF representation} key/value pairs\n",
    "    TFIDF_dict = {}\n",
    "    for i,doc in enumerate(bow_rep.keys()):\n",
    "        TFIDF_dict[doc] = f_w[i,:]*idfs\n",
    "\n",
    "    return TFIDF_dict, idfs"
   ]
  },
  {
   "cell_type": "code",
   "execution_count": 17,
   "metadata": {},
   "outputs": [
    {
     "name": "stdout",
     "output_type": "stream",
     "text": [
      "\n",
      "** Original Comment: xxx xxx made us do a lot of board work every day to practice problems which helped me a lot she would then come by each students board and help correct them if needed\n",
      "\n",
      "** TF-IDF representation for first 12 entries of vector:\n",
      "[0.         2.01221882 0.77098967 0.77098967 0.         0.\n",
      " 2.4405148  0.         0.         1.28181529 0.         0.        ]\n",
      "\n",
      "** TF-IDF score for each unique word in comment:\n",
      "xxx\t2.0122188193696093\n",
      "made\t3.6331905482533475\n",
      "us\t2.4805110383149622\n",
      "do\t2.7168998163791924\n",
      "a\t2.440514796180873\n",
      "lot\t5.1834733468503735\n",
      "of\t1.28181529108987\n",
      "board\t3.682862158050585\n",
      "work\t1.869601955991989\n",
      "every\t3.2277254401451834\n",
      "day\t3.6331905482533475\n",
      "to\t0.7709896673238792\n",
      "practice\t2.8600006600198657\n",
      "problems\t1.533129719370776\n",
      "which\t3.0270547446830323\n",
      "helped\t1.6407603835631415\n",
      "me\t1.7113779507770948\n",
      "she\t4.326337728813293\n",
      "would\t2.785892687866144\n",
      "then\t3.3455084758015667\n",
      "come\t4.7318028369214575\n",
      "by\t3.122364924487357\n",
      "each\t3.8155121050473024\n",
      "students\t3.4790398684260895\n",
      "and\t0.7709896673238792\n",
      "help\t2.785892687866144\n",
      "correct\t4.7318028369214575\n",
      "them\t2.8600006600198657\n",
      "if\t3.3455084758015667\n",
      "needed\t3.8155121050473024\n"
     ]
    }
   ],
   "source": [
    "# first, append two contrived comments to tokenized dataframe for follow-on demo purposes \n",
    "#   because TF-IDF requires the whole corpus!\n",
    "tokenized_comments_helpful[len(tokenized_comments_helpful.index)] = contrived_tokenized_a[0]\n",
    "tokenized_comments_helpful[len(tokenized_comments_helpful.index)] = contrived_tokenized_b[0]\n",
    "\n",
    "# create TF-IDF\n",
    "helpful_tfidf, idfs = create_TFIDF(tokenized_comments_helpful, full_vocab)\n",
    "\n",
    "# look at comment 77 for insights\n",
    "print(f'\\n** Original Comment: {helpfulNew[77]}')\n",
    "# examine first 12 entries of comment 77\n",
    "print('\\n** TF-IDF representation for first 12 entries of vector:')\n",
    "print(helpful_tfidf[77][:12])\n",
    "\n",
    "# print each unique word from comment 77 with its TF-IDF score\n",
    "\n",
    "print('\\n** TF-IDF score for each unique word in comment:')\n",
    "duplicate_list = []\n",
    "for word in tokenized_comments_helpful[77]:\n",
    "    if word not in duplicate_list:\n",
    "        duplicate_list.append(word)\n",
    "        word_idx = full_vocab[word]\n",
    "        print(f'{word}\\t{helpful_tfidf[77][word_idx]}')\n",
    "    else: continue\n",
    "\n",
    "\n",
    "# for i,val in enumerate(helpful_tfidf[80][:12]):\n",
    "#     print(f'{list(full_vocab.keys())[i]}\\t{val}')\n",
    "\n"
   ]
  },
  {
   "attachments": {},
   "cell_type": "markdown",
   "metadata": {},
   "source": [
    "Examine IDF scores for different words in vocabulary."
   ]
  },
  {
   "cell_type": "code",
   "execution_count": 18,
   "metadata": {
    "collapsed": false,
    "jupyter": {
     "outputs_hidden": false
    }
   },
   "outputs": [
    {
     "name": "stdout",
     "output_type": "stream",
     "text": [
      "the\t0.43451743070266635\n",
      "xxx\t1.0061094096848047\n",
      "to\t0.7709896673238792\n",
      "and\t0.7709896673238792\n",
      "in\t0.8197798314933114\n",
      "class\t1.0682411907918108\n",
      "a\t1.2202573980904365\n",
      "i\t1.2660669341217308\n",
      "was\t1.235295275454977\n",
      "of\t1.28181529108987\n",
      "we\t1.4359659709171282\n",
      "helpful\t1.533129719370776\n",
      "\n",
      "back\t4.038655656361512\n",
      "final\t4.038655656361512\n",
      "understood\t4.038655656361512\n",
      "solving\t4.038655656361512\n",
      "end\t4.326337728813293\n",
      "apply\t4.038655656361512\n",
      "teach\t4.326337728813293\n",
      "encouraged\t4.326337728813293\n",
      "instead\t4.326337728813293\n",
      "test\t4.326337728813293\n",
      "knowledge\t4.326337728813293\n",
      "showed\t4.326337728813293\n"
     ]
    }
   ],
   "source": [
    "for i in range(12):\n",
    "    print(f'{list(full_vocab.keys())[i]}\\t{idfs[i]}')\n",
    "\n",
    "print()\n",
    "\n",
    "for i in range(188,200):\n",
    "    print(f'{list(full_vocab.keys())[i]}\\t{idfs[i]}')"
   ]
  },
  {
   "cell_type": "code",
   "execution_count": 19,
   "metadata": {
    "collapsed": false,
    "jupyter": {
     "outputs_hidden": false
    }
   },
   "outputs": [
    {
     "name": "stdout",
     "output_type": "stream",
     "text": [
      "Original comment: the path project i learned a lot about modeling and real world solutions\n",
      "\n",
      "5 most similar comments based on TF-IDF cosine similarity:\n",
      " *  xxx work on path modeling days\n",
      " *  doing the path project\n",
      " *  trying to show real world application of path\n",
      " *  xxx project\n",
      " *  the experience of working in groups was one that i learned a lot from\n"
     ]
    }
   ],
   "source": [
    "# see 5 nearest neighbors to a particular comment\n",
    "comment_entry = 51\n",
    "k=5\n",
    "tfidf_sim = doc_sim(comment_entry,helpful_tfidf,k)\n",
    "print(f'Original comment: {helpfulNew.loc[comment_entry]}')\n",
    "print(f'\\n{k} most similar comments based on TF-IDF cosine similarity:')\n",
    "for d in tfidf_sim:\n",
    "    print(f' *  {helpfulNew.loc[d]}')"
   ]
  },
  {
   "cell_type": "code",
   "execution_count": 20,
   "metadata": {},
   "outputs": [
    {
     "name": "stdout",
     "output_type": "stream",
     "text": [
      " * comment 80: \t\t\ttaking boards is always the best way to learn i believe\n",
      " * contrived comment A: \ti think taking boards is the best way to learn in class\n",
      " * contrived comment B: \tassuming boards is most the greatest methods to understand problems i think\n",
      "\n",
      "cosine similarity of comments 84 and contrived example A: 0.7771950808000737\n",
      "cosine similarity of comments 84 and contrived example B: 0.1458279504712885\n"
     ]
    }
   ],
   "source": [
    "# Create a contrived string to show different cosine similarities using TF-IDF\n",
    "# similar to comment 84: 'taking boards is always the best way to learn i believe'\n",
    "# contrived_comment_a = 'i think taking boards is the best way to learn in class'\n",
    "# contrived_comment_b = 'assuming boards is most the greatest methods to understand problems i think'\n",
    "\n",
    "print(f' * comment 80: \\t\\t\\t{helpfulNew.loc[80]}')\n",
    "print(f' * contrived comment A: \\t{contrived_comment_a}')\n",
    "print(f' * contrived comment B: \\t{contrived_comment_b}\\n')\n",
    "\n",
    "# contrived_comment_a is at location 225; contrived_comment_b is at location 226\n",
    "print(f'cosine similarity of comments 84 and contrived example A: {cos_sim(80,225,helpful_tfidf)}')\n",
    "print(f'cosine similarity of comments 84 and contrived example B: {cos_sim(80,226,helpful_tfidf)}')\n",
    "\n",
    "# optionally remove contrived comment from `full_bow` dictionary\n"
   ]
  },
  {
   "cell_type": "markdown",
   "metadata": {},
   "source": [
    "### **Word2Vec Embeddings**\n",
    "\n"
   ]
  },
  {
   "cell_type": "markdown",
   "metadata": {},
   "source": [
    "Google News has its own vectors and vocabulary. Below, we use these objects, along with your `tokenized_comments_helpful` to implement the following function `run_comment2vec()`, which assigns a vector to every comment based on the Word2Vec word vectors. If a word in the corpus happens to be missing from the Google News vocabulary, we skip it when computing document vectors [note: the denominator in the average is adjusted accordingly].\n",
    "\n",
    "The function accepts as inputs:\n",
    "- the output from `load_corpus()` (e.g., `samp_tokenized`)\n",
    "- `gnews_vocab` (assigned in first cell at top of notebook)\n",
    "- `gnews_vecs` (assigned in first cell at top of notebook)\n",
    "\n",
    "It returns a dictionary, just like `create_TFIDF()`, whereby the keys are the doc ids and the values are the corresponding vectors."
   ]
  },
  {
   "cell_type": "markdown",
   "metadata": {},
   "source": [
    "### Load Word2Vec Model"
   ]
  },
  {
   "cell_type": "code",
   "execution_count": 21,
   "metadata": {},
   "outputs": [
    {
     "name": "stdout",
     "output_type": "stream",
     "text": [
      "Import load time: 26.33954381942749\n"
     ]
    }
   ],
   "source": [
    "from gensim.models import Word2Vec, KeyedVectors\n",
    "import gensim.downloader as api\n",
    "t0 = time.time()\n",
    "gnews = api.load('word2vec-google-news-300')\n",
    "gnews_vecs = gnews.vectors\n",
    "gnews_vocab = gnews.key_to_index\n",
    "total_time = time.time() - t0\n",
    "print(f'Import load time: {total_time}')"
   ]
  },
  {
   "cell_type": "markdown",
   "metadata": {},
   "source": [
    "### Find similar tokens (using pretrained model) to CHALKBOARD"
   ]
  },
  {
   "cell_type": "code",
   "execution_count": 22,
   "metadata": {},
   "outputs": [
    {
     "data": {
      "text/plain": [
       "[('blackboard', 0.8274536728858948),\n",
       " ('chalkboards', 0.6927468180656433),\n",
       " ('whiteboard', 0.6784566044807434),\n",
       " ('dry_erase', 0.6494746208190918),\n",
       " ('fingernails_scratching', 0.6353917121887207),\n",
       " ('macadamia_pursuant', 0.6210680603981018),\n",
       " ('blackboards', 0.5984241366386414),\n",
       " ('fingernails_scraping', 0.5554476380348206),\n",
       " ('Chalkboards', 0.5303213000297546),\n",
       " ('greaseboard', 0.5270883440971375)]"
      ]
     },
     "execution_count": 22,
     "metadata": {},
     "output_type": "execute_result"
    }
   ],
   "source": [
    "gnews.most_similar(\"chalkboard\")"
   ]
  },
  {
   "cell_type": "code",
   "execution_count": 23,
   "metadata": {},
   "outputs": [],
   "source": [
    "def run_comment2vec(tokenized_texts: Dict[int, List[str]], vocab: Dict[str, int], vecs: np.ndarray) -> Dict[int, np.ndarray]:\n",
    "    doc_vecs = {}\n",
    "\n",
    "    # using the word2vec word embeddings, take the mean of the word embeddings to form an\n",
    "    # average embedding to represent the whole pdr comment\n",
    "    for doc_id, doc in tokenized_texts.items():\n",
    "        doc_vecs[doc_id] = np.mean([vecs[vocab[word]] for word in doc if word in vocab], axis=0)\n",
    "    return doc_vecs"
   ]
  },
  {
   "cell_type": "code",
   "execution_count": 24,
   "metadata": {},
   "outputs": [
    {
     "name": "stdout",
     "output_type": "stream",
     "text": [
      "(300,)\n"
     ]
    }
   ],
   "source": [
    "comment2vec = run_comment2vec(tokenized_comments_helpful, gnews_vocab, gnews_vecs)\n",
    "\n",
    "# check the shape -- this is the mean of all of the word embeddings for a single PDR comment\n",
    "# 300 is the vector length for these particular word2vec embeddings\n",
    "print(comment2vec[80].shape)\n",
    "# print(comment2vec[80])"
   ]
  },
  {
   "cell_type": "code",
   "execution_count": 25,
   "metadata": {},
   "outputs": [],
   "source": [
    "comment2vec_df = pd.DataFrame(comment2vec).T\n",
    "comment2vec_norms = np.sqrt((comment2vec_df ** 2).sum(axis=1))\n",
    "comment2vec_cosines = comment2vec_df @ comment2vec_df.T / comment2vec_norms.values / comment2vec_norms.values.reshape(-1, 1)\n",
    "comment2vec_cosines\n",
    "\n",
    "# Get top 5 recommendations for comment2vec\n",
    "comment2vec_recs = comment2vec_cosines.apply(lambda x: pd.Series(x.nlargest(6).index[1:])).T"
   ]
  },
  {
   "cell_type": "code",
   "execution_count": 26,
   "metadata": {},
   "outputs": [
    {
     "name": "stdout",
     "output_type": "stream",
     "text": [
      "**** Query ****\n",
      "60 \t getting the chance to work with our classmates on the boards and then ask xxx xxx if we had any questions was helpful\n",
      "\n",
      "**** comment2vec Recommendations ****\n",
      "179 \t xxx xxx would always walk around and check our boards while we did board work if we weren understanding something he would carefully explain it to us until we did\n",
      "77 \t xxx xxx made us do a lot of board work every day to practice problems which helped me a lot she would then come by each students board and help correct them if needed\n",
      "97 \t any time xxx xxx would go over our reading or run though the processes we studied the night before really helped to cement the concept and course material into my head i found that the most important source in the class was the teacher and the xxx in a real and xxx xxx text book\n",
      "1 \t i particularly thought getting up to the boards as soon as xxx xxx had a good feeling about our understanding of a concept was helpful i think xxx xxx did a pretty good job at balancing getting us to think to understand concepts and teach it to help us understand\n",
      "174 \t doing practice problems that are similar to the ones on the xxx normally in class the questions are significantly easier than the xxx so when we do an advance question it helps more on the xxx\n",
      "\n",
      "**** TF-IDF Recommendations ****\n",
      "100 \t xxx xxx held xxx in which we could ask any questions we needed answers to\n",
      "1 \t i particularly thought getting up to the boards as soon as xxx xxx had a good feeling about our understanding of a concept was helpful i think xxx xxx did a pretty good job at balancing getting us to think to understand concepts and teach it to help us understand\n",
      "49 \t doing individual board work this allowed us the chance to do the work on our feet literally and figuratively and get our work corrected by our instructor\n",
      "204 \t in the beginning of the smelter we had a lot of group work where we could interact and ask questions from my instructor\n",
      "89 \t helpful experiences include the worksheets given in class with the practice problems going to boards and discussing with classmates was also helpful\n",
      "\n",
      "**** BoW Recommendations ****\n",
      "97 \t any time xxx xxx would go over our reading or run though the processes we studied the night before really helped to cement the concept and course material into my head i found that the most important source in the class was the teacher and the xxx in a real and xxx xxx text book\n",
      "169 \t having in class xxx was helpful the day before xxx when we have access to the teacher during the problem solving lab and the day before the course project was due having time to peer review and ask questions in class was valuable\n",
      "75 \t xxx work at the boards\n",
      "144 \t the xxx we worked with was helpful and very interesting and relevant to the material even though the projects we did took a long time i thought they supplemented the course well i also had not done path projects in the past it was strictly learning the material test and then the next topic\n",
      "174 \t doing practice problems that are similar to the ones on the xxx normally in class the questions are significantly easier than the xxx so when we do an advance question it helps more on the xxx\n",
      "\n",
      "\n",
      "**** Query ****\n",
      "9 \t doing practice problems and having class examples were very helpful\n",
      "\n",
      "**** comment2vec Recommendations ****\n",
      "26 \t any type of board work or practice problems in class was very beneficial\n",
      "89 \t helpful experiences include the worksheets given in class with the practice problems going to boards and discussing with classmates was also helpful\n",
      "199 \t i got a lot of helpful practice from doing board problems with a partner\n",
      "5 \t demonstrations and example problems done by the instructor on the boards were very helpful\n",
      "13 \t one helpful experience was doing board problems\n",
      "\n",
      "**** TF-IDF Recommendations ****\n",
      "211 \t doing board problems\n",
      "214 \t having xxx help with peers in class\n",
      "123 \t in the classroom going over lessons on the board and doing practice problems helped greatly to understand the concepts behind the tasks we were doing\n",
      "199 \t i got a lot of helpful practice from doing board problems with a partner\n",
      "13 \t one helpful experience was doing board problems\n",
      "\n",
      "**** BoW Recommendations ****\n",
      "5 \t demonstrations and example problems done by the instructor on the boards were very helpful\n",
      "211 \t doing board problems\n",
      "13 \t one helpful experience was doing board problems\n",
      "89 \t helpful experiences include the worksheets given in class with the practice problems going to boards and discussing with classmates was also helpful\n",
      "26 \t any type of board work or practice problems in class was very beneficial\n",
      "\n",
      "\n",
      "**** Query ****\n",
      "14 \t the project forced us to work together and think clinically it gave me a better idea of who i could go to for help\n",
      "\n",
      "**** comment2vec Recommendations ****\n",
      "52 \t i enjoyed when we would get called up to solve a problem and if we did not know how to solve it other students would help us out this was beneficial because it allowed us to get rep and stay engaged in class especially on days when it was hard to stay engaged\n",
      "178 \t i really enjoyed the board activities that we did i think that was the experience within class that benefited my learning it offered a chance for us to practice the material collaborate with others and have the teacher assist if needed\n",
      "113 \t one time we broke apart into two groups with learning marines so that people could get extra help or people could work ahead which i found was a good use of my time in class to not have to go over things i already had a good handle on\n",
      "54 \t i like the board work that we did in every class it helped me get a better understanding of the material that we were covering for that days lesson\n",
      "142 \t xxx xxx was very good about challenging us while still giving us help as needed at least after the first problem set he was very understanding towards our level of knowledge he had us code a lot but was always willing to look at our code or work on it in class also really love the life stories\n",
      "\n",
      "**** TF-IDF Recommendations ****\n",
      "217 \t i think that when we did break down into groups and work together it was helpful\n",
      "121 \t i really liked the coming on xxx it definitely made me think more clinically and i was always really excited to tackle the problem\n",
      "215 \t xxx project\n",
      "127 \t i believe that working in tears was a very important part in this path class it allowed for the students to build a better understanding of the material and work with peers who may have a different perspective on problem solving\n",
      "12 \t doing board work was always helpful since then my classmates and teacher could see where i was missing up and could help\n",
      "\n",
      "**** BoW Recommendations ****\n",
      "1 \t i particularly thought getting up to the boards as soon as xxx xxx had a good feeling about our understanding of a concept was helpful i think xxx xxx did a pretty good job at balancing getting us to think to understand concepts and teach it to help us understand\n",
      "86 \t a helpful class experience i had was going to the board after learning the material to try and work out a problem with my small group of peers this allowed us to determine how well we grasped the topic and if we had to spend more time practicing this for future exam\n",
      "65 \t the instructor was able to manage the scope of the course and its objectives he was able to relate it to his life and enter us all personally to ensure we are receiving the material\n",
      "127 \t i believe that working in tears was a very important part in this path class it allowed for the students to build a better understanding of the material and work with peers who may have a different perspective on problem solving\n",
      "152 \t when we had a quit where we told simple instructions in the execution of it and xxx xxx walked out and we all had to deliberately work together to work the quit that engaged my attention and comprehension of the work i retained that information well\n",
      "\n",
      "\n",
      "**** Query ****\n",
      "16 \t working board problems is an extremely helpful part of this course i learn a lot from both my professor and my fellow students\n",
      "\n",
      "**** comment2vec Recommendations ****\n",
      "98 \t everytime working on the boards with my group members was very beneficial to me and my learning\n",
      "58 \t i was skeptically about working board problems in the beginning but i quickly realized how much more helpful it was than simply working the problem in my notes as board work promoted working with my peers which not only helped me understand the problem better but also created an environment in which i was much more comfortable asking my peers for assistance when needed and vice versa\n",
      "178 \t i really enjoyed the board activities that we did i think that was the experience within class that benefited my learning it offered a chance for us to practice the material collaborate with others and have the teacher assist if needed\n",
      "198 \t our teacher always had relevant realworld problems so we had a sense of how we could actually apply the path we learn in real life xxx xxx is a great teacher and his efforts to prepare for his class is obvious i hope more teachers had his work ethics and desire to actually teach students\n",
      "86 \t a helpful class experience i had was going to the board after learning the material to try and work out a problem with my small group of peers this allowed us to determine how well we grasped the topic and if we had to spend more time practicing this for future exam\n",
      "\n",
      "**** TF-IDF Recommendations ****\n",
      "199 \t i got a lot of helpful practice from doing board problems with a partner\n",
      "143 \t the experience of working in groups was one that i learned a lot from\n",
      "62 \t completing board work in groups allowed me to learn from both my peers and instructor when trying to grasp the idea of marines and social network\n",
      "196 \t xxxorking with my second god group xxx xxx and xxx xxx were extremely helpful i learned a lot from the two of them\n",
      "127 \t i believe that working in tears was a very important part in this path class it allowed for the students to build a better understanding of the material and work with peers who may have a different perspective on problem solving\n",
      "\n",
      "**** BoW Recommendations ****\n",
      "199 \t i got a lot of helpful practice from doing board problems with a partner\n",
      "196 \t xxxorking with my second god group xxx xxx and xxx xxx were extremely helpful i learned a lot from the two of them\n",
      "58 \t i was skeptically about working board problems in the beginning but i quickly realized how much more helpful it was than simply working the problem in my notes as board work promoted working with my peers which not only helped me understand the problem better but also created an environment in which i was much more comfortable asking my peers for assistance when needed and vice versa\n",
      "62 \t completing board work in groups allowed me to learn from both my peers and instructor when trying to grasp the idea of marines and social network\n",
      "143 \t the experience of working in groups was one that i learned a lot from\n",
      "\n",
      "\n"
     ]
    }
   ],
   "source": [
    "# Display closest comments given the average word2vec embedding\n",
    "for comment_id in [60, 9, 14, 16]:\n",
    "    print('**** Query ****')\n",
    "    print(comment_id,'\\t',helpfulNew.iloc[comment_id])\n",
    "    \n",
    "    print('\\n**** comment2vec Recommendations ****')\n",
    "    for rec_id in comment2vec_recs.loc[comment_id]:\n",
    "        print(rec_id,'\\t',helpfulNew.loc[rec_id])\n",
    "\n",
    "    print('\\n**** TF-IDF Recommendations ****')\n",
    "    for rec_id in doc_sim(comment_id,helpful_tfidf,k):\n",
    "        print(rec_id,'\\t',helpfulNew.loc[rec_id])\n",
    "\n",
    "    print('\\n**** BoW Recommendations ****')\n",
    "    for rec_id in doc_sim(comment_id,full_bow,k):\n",
    "        print(rec_id,'\\t',helpfulNew.loc[rec_id])\n",
    "\n",
    "\n",
    "    print('\\n')"
   ]
  },
  {
   "cell_type": "code",
   "execution_count": 27,
   "metadata": {},
   "outputs": [
    {
     "name": "stdout",
     "output_type": "stream",
     "text": [
      "*** COMMENTS ***\n",
      " * comment 80: \t\t\ttaking boards is always the best way to learn i believe\n",
      " * contrived comment A: \ti think taking boards is the best way to learn in class\n",
      " * contrived comment B: \tassuming boards is most the greatest methods to understand problems i think\n",
      "\n",
      "*** Bag of Words ***\n",
      "cosine similarity of comments 80 and contrived example A: 0.7833494518006403\n",
      "cosine similarity of comments 80 and contrived example B: 0.4351941398892446\n",
      "\n",
      "*** TF-IDF ***\n",
      "cosine similarity of comments 80 and contrived example A: 0.7771950808000737\n",
      "cosine similarity of comments 80 and contrived example B: 0.1458279504712885\n",
      "\n",
      "*** Word2Vec ***\n",
      "cosine similarity of comments 80 and contrived example A: 0.9489344954490662\n",
      "cosine similarity of comments 80 and contrived example B: 0.8368156552314758\n"
     ]
    }
   ],
   "source": [
    "print('*** COMMENTS ***')\n",
    "print(f' * comment 80: \\t\\t\\t{helpfulNew.loc[80]}')\n",
    "print(f' * contrived comment A: \\t{contrived_comment_a}')\n",
    "print(f' * contrived comment B: \\t{contrived_comment_b}\\n')\n",
    "\n",
    "print('*** Bag of Words ***')\n",
    "print(f'cosine similarity of comments 80 and contrived example A: {cos_sim(80,\"contrived_a\",full_bow)}')\n",
    "print(f'cosine similarity of comments 80 and contrived example B: {cos_sim(80,\"contrived_b\",full_bow)}\\n')\n",
    "\n",
    "print('*** TF-IDF ***')\n",
    "print(f'cosine similarity of comments 80 and contrived example A: {cos_sim(80,225,helpful_tfidf)}')\n",
    "print(f'cosine similarity of comments 80 and contrived example B: {cos_sim(80,226,helpful_tfidf)}\\n')\n",
    "\n",
    "print('*** Word2Vec ***')\n",
    "print(f'cosine similarity of comments 80 and contrived example A: {comment2vec_cosines[80][225]}')\n",
    "print(f'cosine similarity of comments 80 and contrived example B: {comment2vec_cosines[80][226]}')"
   ]
  },
  {
   "cell_type": "markdown",
   "metadata": {},
   "source": [
    "## **Preview of transformer-based transfer learning**"
   ]
  },
  {
   "cell_type": "code",
   "execution_count": 28,
   "metadata": {},
   "outputs": [],
   "source": [
    "# uncomment these lines if you are operating on Google Colab or other cloud-based platform without a virtual environment.\n",
    "# !pip install datasets\n",
    "# !pip install transformers\n",
    "# !pip install --upgrade torch torchvision"
   ]
  },
  {
   "cell_type": "code",
   "execution_count": 29,
   "metadata": {},
   "outputs": [
    {
     "name": "stderr",
     "output_type": "stream",
     "text": [
      "c:\\Users\\john.scudder\\Anaconda3\\envs\\aors\\Lib\\site-packages\\tqdm\\auto.py:21: TqdmWarning: IProgress not found. Please update jupyter and ipywidgets. See https://ipywidgets.readthedocs.io/en/stable/user_install.html\n",
      "  from .autonotebook import tqdm as notebook_tqdm\n"
     ]
    }
   ],
   "source": [
    "from transformers import pipeline, AutoConfig, AutoModel, AutoTokenizer\n",
    "from datasets import Dataset\n",
    "import torch "
   ]
  },
  {
   "cell_type": "code",
   "execution_count": 30,
   "metadata": {},
   "outputs": [
    {
     "name": "stdout",
     "output_type": "stream",
     "text": [
      "CPU\n"
     ]
    }
   ],
   "source": [
    "device = 0 if torch.cuda.is_available() else -1\n",
    "print(\"Using: \" \"GPU\" if device== 0 else \"CPU\" )"
   ]
  },
  {
   "cell_type": "markdown",
   "metadata": {},
   "source": [
    "### Sentiment Analysis"
   ]
  },
  {
   "cell_type": "code",
   "execution_count": 31,
   "metadata": {},
   "outputs": [
    {
     "name": "stderr",
     "output_type": "stream",
     "text": [
      "Some weights of the model checkpoint at cardiffnlp/twitter-roberta-base-sentiment-latest were not used when initializing RobertaForSequenceClassification: ['roberta.pooler.dense.weight', 'roberta.pooler.dense.bias']\n",
      "- This IS expected if you are initializing RobertaForSequenceClassification from the checkpoint of a model trained on another task or with another architecture (e.g. initializing a BertForSequenceClassification model from a BertForPreTraining model).\n",
      "- This IS NOT expected if you are initializing RobertaForSequenceClassification from the checkpoint of a model that you expect to be exactly identical (initializing a BertForSequenceClassification model from a BertForSequenceClassification model).\n"
     ]
    }
   ],
   "source": [
    "MODEL = f\"cardiffnlp/twitter-roberta-base-sentiment-latest\"\n",
    "classifier = pipeline(\"sentiment-analysis\",model = MODEL, device = device) # device should make use of GPUs if set to 0... if -1 will default to CPUs"
   ]
  },
  {
   "cell_type": "code",
   "execution_count": 32,
   "metadata": {},
   "outputs": [
    {
     "name": "stdout",
     "output_type": "stream",
     "text": [
      "Comment:  in class examples were great for xxx xxx and xxx xxx to use for quires to see what material was essential to know for xxx \n",
      " [{'label': 'positive', 'score': 0.9424242973327637}]\n",
      "Comment:  i particularly thought getting up to the boards as soon as xxx xxx had a good feeling about our understanding of a concept was helpful i think xxx xxx did a pretty good job at balancing getting us to think to understand concepts and teach it to help us understand \n",
      " [{'label': 'positive', 'score': 0.9298580884933472}]\n",
      "Comment:  This was the worst class I've ever had. The work was tedious and not related to my major. \n",
      " [{'label': 'negative', 'score': 0.9576689004898071}]\n"
     ]
    }
   ],
   "source": [
    "print(\"Comment: \", helpfulNew[0],\"\\n\",classifier(helpfulNew[0]))\n",
    "print(\"Comment: \", helpfulNew[1],\"\\n\",classifier(helpfulNew[1]))\n",
    "negCom = \"This was the worst class I've ever had. The work was tedious and not related to my major.\"\n",
    "print(\"Comment: \", negCom,\"\\n\",classifier(negCom))"
   ]
  },
  {
   "cell_type": "markdown",
   "metadata": {},
   "source": [
    "### Zero Shot Classification"
   ]
  },
  {
   "cell_type": "code",
   "execution_count": 33,
   "metadata": {},
   "outputs": [
    {
     "data": {
      "text/plain": [
       "{'sequence': 'This is a lesson about the incredible power of Transformers',\n",
       " 'labels': ['education', 'business', 'politics'],\n",
       " 'scores': [0.9968070983886719, 0.0021586946677416563, 0.0010341808665543795]}"
      ]
     },
     "execution_count": 33,
     "metadata": {},
     "output_type": "execute_result"
    }
   ],
   "source": [
    "classifier = pipeline(\"zero-shot-classification\",model=\"facebook/bart-large-mnli\")\n",
    "classifier(\"This is a lesson about the incredible power of Transformers\",candidate_labels=[\"education\", \"politics\", \"business\"],)"
   ]
  },
  {
   "cell_type": "markdown",
   "metadata": {},
   "source": [
    "### Text Generation"
   ]
  },
  {
   "cell_type": "code",
   "execution_count": 34,
   "metadata": {},
   "outputs": [
    {
     "name": "stderr",
     "output_type": "stream",
     "text": [
      "Setting `pad_token_id` to `eos_token_id`:50256 for open-end generation.\n"
     ]
    },
    {
     "data": {
      "text/plain": [
       "[{'generated_text': 'Once we leave this class about the benefits of healthy living, \\xa0my favorite line of thinking is that no one would be surprised if we had a more stable existence after living in a more loving environment.\\nBut what about the more common conclusion of'},\n",
       " {'generated_text': \"Once we leave this class about the benefits of healthy living, \\xa0that's when it really starts to make sense to consider what we can do to help those who have the greatest potential who don't.\\nPosted by The author at 07:59\"},\n",
       " {'generated_text': \"Once we leave this class about the benefits of healthy living, \\xa0we'll see how we can really make an interesting difference in that area!\\nAnd if you would like to be on the receiving end of our ideas for making your own meals,\"},\n",
       " {'generated_text': \"Once we leave this class about the benefits of healthy living, \\xa0we have now started to look further at our understanding of the benefits of eating well. Here's what happens when you're willing to let yourself be consumed by the best foods you can\"},\n",
       " {'generated_text': 'Once we leave this class about the benefits of healthy living, \\xa0I can see why you may find that this is not the end of your book. \\xa0I have no objections about your use of \"natural\" and \"natural-created\"'}]"
      ]
     },
     "execution_count": 34,
     "metadata": {},
     "output_type": "execute_result"
    }
   ],
   "source": [
    "generator = pipeline(\"text-generation\", model = 'gpt2')\n",
    "generator(\"Once we leave this class about the benefits of healthy living, \", max_length=50, num_return_sequences=5)"
   ]
  },
  {
   "cell_type": "markdown",
   "metadata": {},
   "source": [
    "### Mask Filling"
   ]
  },
  {
   "cell_type": "code",
   "execution_count": 35,
   "metadata": {},
   "outputs": [
    {
     "name": "stderr",
     "output_type": "stream",
     "text": [
      "Some weights of the model checkpoint at bert-base-uncased were not used when initializing BertForMaskedLM: ['cls.seq_relationship.weight', 'bert.pooler.dense.weight', 'cls.seq_relationship.bias', 'bert.pooler.dense.bias']\n",
      "- This IS expected if you are initializing BertForMaskedLM from the checkpoint of a model trained on another task or with another architecture (e.g. initializing a BertForSequenceClassification model from a BertForPreTraining model).\n",
      "- This IS NOT expected if you are initializing BertForMaskedLM from the checkpoint of a model that you expect to be exactly identical (initializing a BertForSequenceClassification model from a BertForSequenceClassification model).\n"
     ]
    },
    {
     "data": {
      "text/plain": [
       "[{'score': 0.5722203850746155,\n",
       "  'token': 6364,\n",
       "  'token_str': 'processing',\n",
       "  'sequence': 'natural language processing is a really cool analytical tool.'},\n",
       " {'score': 0.08222448080778122,\n",
       "  'token': 4106,\n",
       "  'token_str': 'analysis',\n",
       "  'sequence': 'natural language analysis is a really cool analytical tool.'},\n",
       " {'score': 0.038689740002155304,\n",
       "  'token': 7654,\n",
       "  'token_str': 'acquisition',\n",
       "  'sequence': 'natural language acquisition is a really cool analytical tool.'}]"
      ]
     },
     "execution_count": 35,
     "metadata": {},
     "output_type": "execute_result"
    }
   ],
   "source": [
    "unmasker = pipeline(\"fill-mask\", model='bert-base-uncased')\n",
    "unmasker(\"Natural Language [MASK] is a really cool analytical tool.\", top_k=3)"
   ]
  },
  {
   "cell_type": "markdown",
   "metadata": {},
   "source": [
    "### Named Entity Recognition"
   ]
  },
  {
   "cell_type": "code",
   "execution_count": 36,
   "metadata": {},
   "outputs": [
    {
     "name": "stderr",
     "output_type": "stream",
     "text": [
      "Some weights of the model checkpoint at dslim/bert-base-NER were not used when initializing BertForTokenClassification: ['bert.pooler.dense.weight', 'bert.pooler.dense.bias']\n",
      "- This IS expected if you are initializing BertForTokenClassification from the checkpoint of a model trained on another task or with another architecture (e.g. initializing a BertForSequenceClassification model from a BertForPreTraining model).\n",
      "- This IS NOT expected if you are initializing BertForTokenClassification from the checkpoint of a model that you expect to be exactly identical (initializing a BertForSequenceClassification model from a BertForSequenceClassification model).\n",
      "c:\\Users\\john.scudder\\Anaconda3\\envs\\aors\\Lib\\site-packages\\transformers\\pipelines\\token_classification.py:169: UserWarning: `grouped_entities` is deprecated and will be removed in version v5.0.0, defaulted to `aggregation_strategy=\"AggregationStrategy.SIMPLE\"` instead.\n",
      "  warnings.warn(\n"
     ]
    },
    {
     "data": {
      "text/plain": [
       "[{'entity_group': 'PER',\n",
       "  'score': 0.99890816,\n",
       "  'word': 'Jack',\n",
       "  'start': 11,\n",
       "  'end': 15},\n",
       " {'entity_group': 'ORG',\n",
       "  'score': 0.9965072,\n",
       "  'word': 'US Military Academy',\n",
       "  'start': 34,\n",
       "  'end': 53},\n",
       " {'entity_group': 'ORG',\n",
       "  'score': 0.63952595,\n",
       "  'word': 'Math Department',\n",
       "  'start': 61,\n",
       "  'end': 76}]"
      ]
     },
     "execution_count": 36,
     "metadata": {},
     "output_type": "execute_result"
    }
   ],
   "source": [
    "ner = pipeline(\"ner\", model = \"dslim/bert-base-NER\",grouped_entities=True)\n",
    "ner(\"My name is Jack and I work at the US Military Academy in the Math Department.\")"
   ]
  },
  {
   "cell_type": "code",
   "execution_count": 37,
   "metadata": {},
   "outputs": [
    {
     "data": {
      "text/plain": [
       "{'score': 0.47534841299057007,\n",
       " 'start': 34,\n",
       " 'end': 76,\n",
       " 'answer': 'US Military Academy in the Math Department'}"
      ]
     },
     "execution_count": 37,
     "metadata": {},
     "output_type": "execute_result"
    }
   ],
   "source": [
    "question_answerer = pipeline(\"question-answering\", model = \"distilbert-base-cased-distilled-squad\")\n",
    "question_answerer(\n",
    "    question=\"Where am I employed?\",\n",
    "    context=\"My name is Jack and I work at the US Military Academy in the Math Department.\",)"
   ]
  },
  {
   "cell_type": "markdown",
   "metadata": {},
   "source": [
    "### Summarization"
   ]
  },
  {
   "cell_type": "code",
   "execution_count": 38,
   "metadata": {},
   "outputs": [
    {
     "data": {
      "text/plain": [
       "[{'summary_text': ' The American Journal of Clinical Nutrition features the work of the authors of a new paper . They use state-of-the-art techniques to accurately categorize food labels . The authors say they can do this without the help of a human reading and interpreting the data . The study is published in the journal American Journal Of Clinical Nutrition, published in March 2013 .'}]"
      ]
     },
     "execution_count": 38,
     "metadata": {},
     "output_type": "execute_result"
    }
   ],
   "source": [
    "summarizer = pipeline(\"summarization\", model = \"sshleifer/distilbart-cnn-12-6\")\n",
    "summarizer(\n",
    "    \"\"\"\n",
    "Many years ago, as a student in a research methods course, I heard a most disappointing truth 8 that much of \n",
    "research is getting your data in order. Sigh. Certainly, the design, data collection, and 9 analysis phases \n",
    "are all key (and exciting) parts, but most research will include a requirement to convert 10 raw data into a \n",
    "more usable format. While many have accepted that this important, time consuming, 11 and unsatisfying part of \n",
    "research is just part of the process, this issue of The American Journal of Clinical 12 Nutrition features \n",
    "the work of the work of Hu, Ahmed, and L’Abbe [1] that demonstrates a viable way 13 to reduce this data \n",
    "wrangling burden. In their paper, the authors have applied state-of-the-art Natural 14 Language Processing \n",
    "(NLP) and Machine Learning (ML) techniques to accurately categorize food label 15 information. Demonstrating \n",
    "the impact of using these techniques, they use the University of Toronto 16 Food Label Information and Price \n",
    "(FLIP) database to identify a given label’s category (i.e. baked goods, 17 beverage, etc.) along with its \n",
    "nutritional quality. What is incredible about these results is the level of 18 accuracy that the authors \n",
    "achieve without the aid of a human reading and interpreting each label.\n",
    "\"\"\"\n",
    ")"
   ]
  },
  {
   "cell_type": "markdown",
   "metadata": {},
   "source": [
    "### Translation"
   ]
  },
  {
   "cell_type": "code",
   "execution_count": 39,
   "metadata": {},
   "outputs": [
    {
     "name": "stderr",
     "output_type": "stream",
     "text": [
      "c:\\Users\\john.scudder\\Anaconda3\\envs\\aors\\Lib\\site-packages\\transformers\\models\\marian\\tokenization_marian.py:194: UserWarning: Recommended: pip install sacremoses.\n",
      "  warnings.warn(\"Recommended: pip install sacremoses.\")\n"
     ]
    },
    {
     "data": {
      "text/plain": [
       "[{'translation_text': 'Greetings fellow natural language processors! I hope you are having a great class.'}]"
      ]
     },
     "execution_count": 39,
     "metadata": {},
     "output_type": "execute_result"
    }
   ],
   "source": [
    "#!pip install transformers[sentencepiece]\n",
    "translator = pipeline(\"translation\", model=\"Helsinki-NLP/opus-mt-es-en\")\n",
    "translator(\"Saludos compañeros procesadores de lenguaje natural! Espero que usted está teniendo una gran clase.\")"
   ]
  }
 ],
 "metadata": {
  "kernelspec": {
   "display_name": "Python 3",
   "language": "python",
   "name": "python3"
  },
  "language_info": {
   "codemirror_mode": {
    "name": "ipython",
    "version": 3
   },
   "file_extension": ".py",
   "mimetype": "text/x-python",
   "name": "python",
   "nbconvert_exporter": "python",
   "pygments_lexer": "ipython3",
   "version": "3.11.4"
  }
 },
 "nbformat": 4,
 "nbformat_minor": 4
}
