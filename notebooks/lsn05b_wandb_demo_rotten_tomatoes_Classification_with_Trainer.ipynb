{
 "cells": [
  {
   "cell_type": "markdown",
   "metadata": {
    "id": "i0AGlaKgBPiH"
   },
   "source": [
    "# Fine-Tune a Model with Hugging Face's `Trainer` API\n",
    "\n",
    "* Loosely derived from: https://huggingface.co/docs/transformers/tasks/sequence_classification\n",
    "* Train, evaluate, output metrics"
   ]
  },
  {
   "cell_type": "markdown",
   "metadata": {
    "id": "Jzqhi65uH-eW"
   },
   "source": [
    "### `pip install` necessary packages, then restart runtime."
   ]
  },
  {
   "cell_type": "code",
   "execution_count": null,
   "metadata": {
    "id": "4EojGaw0sb_l"
   },
   "outputs": [],
   "source": [
    "# uncomment lines below, run this cell, then restart the runtime before continuing\n",
    "# !pip install transformers > out1\n",
    "# !pip install datasets > out2\n",
    "# !pip install numpy==1.23.4 > out3\n",
    "# !pip install sentencepiece > out4\n",
    "# !pip install wandb > out5"
   ]
  },
  {
   "cell_type": "code",
   "execution_count": null,
   "metadata": {
    "id": "utjMLdmqsUuA"
   },
   "outputs": [],
   "source": [
    "import matplotlib.pyplot as plt\n",
    "import numpy as np\n",
    "import re\n",
    "import scipy\n",
    "import time\n",
    "import torch\n",
    "\n",
    "from datasets import load_dataset, Dataset\n",
    "from sklearn import metrics\n",
    "from sklearn.metrics import accuracy_score, precision_recall_fscore_support, confusion_matrix, ConfusionMatrixDisplay\n",
    "from transformers import BertForSequenceClassification, BertTokenizerFast, Trainer, TrainingArguments, AutoTokenizer, AutoModelForSequenceClassification, pipeline, AutoConfig"
   ]
  },
  {
   "cell_type": "code",
   "execution_count": null,
   "metadata": {},
   "outputs": [],
   "source": [
    "# Log in to your W&B account\n",
    "import wandb\n",
    "wandb.login()"
   ]
  },
  {
   "cell_type": "markdown",
   "metadata": {
    "id": "JDL8UfdzH8aO"
   },
   "source": [
    "### Verify if a GPU is available; print some details"
   ]
  },
  {
   "cell_type": "code",
   "execution_count": null,
   "metadata": {
    "colab": {
     "base_uri": "https://localhost:8080/"
    },
    "id": "XKRYOtKKzxJ9",
    "outputId": "bc1444f4-bb3f-4a88-94e0-325252eb984a"
   },
   "outputs": [],
   "source": [
    "print(f'Is a GPU available? {torch.cuda.is_available()}')\n",
    "device_count = torch.cuda.device_count()\n",
    "print(f'Number of GPUs available: {device_count}')\n",
    "print(f'Current GPU index: {torch.cuda.current_device()}')\n",
    "for i in range(device_count):\n",
    "    print(f'Device {i}:')\n",
    "    print(f'\\t{torch.cuda.device(i)}')\n",
    "    print(f'\\t{torch.cuda.get_device_name(i)}')"
   ]
  },
  {
   "cell_type": "code",
   "execution_count": null,
   "metadata": {
    "colab": {
     "base_uri": "https://localhost:8080/"
    },
    "id": "zPnFL0eYIJHM",
    "outputId": "a679e210-b6a2-4e02-f00d-e9ef3610cd2a"
   },
   "outputs": [],
   "source": [
    "!nvidia-smi"
   ]
  },
  {
   "cell_type": "markdown",
   "metadata": {
    "id": "7EFcvLcZISKC"
   },
   "source": [
    "### Load model and dataset"
   ]
  },
  {
   "cell_type": "code",
   "execution_count": null,
   "metadata": {
    "colab": {
     "base_uri": "https://localhost:8080/"
    },
    "id": "nq1i8QiBtY0e",
    "outputId": "265cbadd-a0bc-440a-914a-8ebce9521ca0"
   },
   "outputs": [],
   "source": [
    "# label2id: maps the class names to integers.\n",
    "# id2label: maps the integers to class names.\n",
    "id2label = {0:\"NEGATIVE\", 1:\"POSITIVE\"}\n",
    "label2id = {\"NEGATIVE\":0, \"POSITIVE\":1}\n",
    "\n",
    "# load pre-trained BERT embeddings and associated tokenizer\n",
    "model = BertForSequenceClassification.from_pretrained('bert-base-uncased',id2label = id2label, label2id=label2id)\n",
    "tokenizer = BertTokenizerFast.from_pretrained('bert-base-uncased')"
   ]
  },
  {
   "cell_type": "code",
   "execution_count": null,
   "metadata": {},
   "outputs": [],
   "source": [
    "rt = load_dataset('rotten_tomatoes')\n",
    "rt"
   ]
  },
  {
   "cell_type": "markdown",
   "metadata": {},
   "source": [
    "Examine a negative and a positive example from the `rotten_tomatoes` dataset"
   ]
  },
  {
   "cell_type": "code",
   "execution_count": null,
   "metadata": {},
   "outputs": [],
   "source": [
    "# positive review:\n",
    "print(rt['train'][0])\n",
    "print()\n",
    "# negative review:\n",
    "print(rt['train'][-7])"
   ]
  },
  {
   "cell_type": "markdown",
   "metadata": {
    "id": "SZfH_F_vIVfU"
   },
   "source": [
    "#### Tokenize dataset"
   ]
  },
  {
   "cell_type": "code",
   "execution_count": null,
   "metadata": {
    "colab": {
     "base_uri": "https://localhost:8080/",
     "height": 101,
     "referenced_widgets": [
      "0d7444aaed9d4dbeaca24d21d8ea0263",
      "017ac61b655f413684d51657db813066",
      "c9c1b41b7824426f88290311d9e3fbf2",
      "7f21672040cf48fa8f3077851dd114e4",
      "81157d9a368e4416967a26b914dc3366",
      "4150b43cb0914fb58e88bff91c702725",
      "d72db16ae1964b5ebafb89926b3382ef",
      "d3ab4eade62d4e87ab61cabeb53505d2",
      "5b1379ed30024c32a4b737da7f435e4d",
      "a3b9929040ac46fca69c392f44e34519",
      "824947ff5b4c4985b39dc2b113358cd7",
      "6aa446eec19347f69d117383760c970b",
      "fbf1edb61fff40b9889804d2454cf680",
      "9653f4c447d54cffa6a6beba2340659a",
      "46d975421b034145a34c1c4c961b0957",
      "a344962a07784cc2a5961b16183ce8df",
      "2fda9cd0d06f473eacb9bc52a0284e84",
      "b121c80fae07494a8bd1801dc4f58cfb",
      "9e9954eb73a24bab9e1134638a151683",
      "6df39ca57b8a4624be95ff377f97be19",
      "b9af100acfe14de3bf85f1fda3950296",
      "f039ecc6ef634610a5de5306c3ad6f8f"
     ]
    },
    "id": "5DEWNilys9Ty",
    "outputId": "c55489b5-4e14-4a0e-dbfe-39bfc40c4dce"
   },
   "outputs": [],
   "source": [
    "def tokenize(batch):\n",
    "    return tokenizer(batch['text'], padding=True, truncation=True)\n",
    "\n",
    "train_dataset, val_dataset, test_dataset = load_dataset('rotten_tomatoes', split=['train', 'validation', 'test'])\n",
    "train_dataset = train_dataset.map(tokenize, batched=True, batch_size=len(train_dataset))\n",
    "val_dataset = val_dataset.map(tokenize, batched=True, batch_size=len(val_dataset))\n",
    "test_dataset = test_dataset.map(tokenize, batched=True, batch_size=len(test_dataset))\n",
    "train_dataset.set_format('torch', columns=['input_ids', 'attention_mask', 'label'])\n",
    "val_dataset.set_format('torch', columns=['input_ids', 'attention_mask', 'label'])\n",
    "test_dataset.set_format('torch', columns=['input_ids', 'attention_mask', 'label'])"
   ]
  },
  {
   "cell_type": "code",
   "execution_count": null,
   "metadata": {},
   "outputs": [],
   "source": [
    "# model._get_name()\n",
    "# model.name_or_path"
   ]
  },
  {
   "cell_type": "markdown",
   "metadata": {
    "id": "zpKLZSo9IXUN"
   },
   "source": [
    "### Train your model\n",
    "* Set up a function to compute metrics: accuracy, precision, recall, f1\n",
    "* Define training arguments and instantiate `Trainer`"
   ]
  },
  {
   "cell_type": "code",
   "execution_count": null,
   "metadata": {},
   "outputs": [],
   "source": [
    "# For wandb, declare some global variables.\n",
    "dtg_run = time.strftime(f'%d%H%M%b%y').upper() #ex. '112036OCT21' ... add underscores for readability if desired\n",
    "\n",
    "PROJ = 'basic-demo'\n",
    "TAGS = ['rotten_tomatoes','dsp']\n",
    "TITLE = f\"rot_tom_finetuned_model_{dtg_run}\"\n",
    "BASE_MODEL = model._get_name()\n",
    "NUM_EPOCHS = 3\n",
    "BATCH_SIZE = 8\n",
    "RNDM_SEED = 42\n",
    "STEPS = 200"
   ]
  },
  {
   "cell_type": "code",
   "execution_count": null,
   "metadata": {},
   "outputs": [],
   "source": [
    "# Determine parameters to track for each run\n",
    "wandb_config_dict = dict(base_model=BASE_MODEL,\n",
    "                         epochs=NUM_EPOCHS,\n",
    "                         batch_size=BATCH_SIZE,\n",
    "                         seed=RNDM_SEED,\n",
    "                         steps=STEPS)\n",
    "\n",
    "# Initialize\n",
    "wandb_init_dict = dict(name=TITLE,\n",
    "                       project=PROJ,\n",
    "                       tags=TAGS,\n",
    "                       notes=\"this is an example run\",\n",
    "                       config=wandb_config_dict)\n",
    "\n",
    "wandb.init(**wandb_init_dict)\n"
   ]
  },
  {
   "cell_type": "code",
   "execution_count": null,
   "metadata": {
    "id": "N8J-TLhBuaOf"
   },
   "outputs": [],
   "source": [
    "def compute_metrics(pred):\n",
    "    labels = pred.label_ids\n",
    "    preds = pred.predictions.argmax(-1)\n",
    "    precision, recall, f1, _ = precision_recall_fscore_support(labels, preds, average='binary')\n",
    "    acc = accuracy_score(labels, preds)\n",
    "    return {\n",
    "        'accuracy': acc,\n",
    "        'f1': f1,\n",
    "        'precision': precision,\n",
    "        'recall': recall\n",
    "    }\n",
    "\n",
    "# MODIFIED\n",
    "training_args = TrainingArguments(\n",
    "    output_dir='./results',\n",
    "    num_train_epochs=NUM_EPOCHS,\n",
    "    per_device_train_batch_size=BATCH_SIZE,\n",
    "    per_device_eval_batch_size=BATCH_SIZE,\n",
    "    seed = RNDM_SEED,\n",
    "    do_eval=True,\n",
    "    logging_steps=STEPS,\n",
    "    logging_dir='./logs',\n",
    "    report_to=\"wandb\" # NEW ARGUMENT FOR THIS LESSON \n",
    ") # https://huggingface.co/docs/transformers/main_classes/trainer#transformers.TrainingArguments.set_logging\n",
    "\n",
    "trainer = Trainer(\n",
    "    model=model,\n",
    "    args=training_args,\n",
    "    compute_metrics=compute_metrics,\n",
    "    train_dataset=train_dataset,\n",
    "    eval_dataset=val_dataset,\n",
    ")"
   ]
  },
  {
   "cell_type": "code",
   "execution_count": null,
   "metadata": {
    "id": "9G6ro00XzxJ-"
   },
   "outputs": [],
   "source": [
    "# trainer.args"
   ]
  },
  {
   "cell_type": "markdown",
   "metadata": {
    "id": "PNJIqBaXIlsc"
   },
   "source": [
    "#### Training Loop"
   ]
  },
  {
   "cell_type": "code",
   "execution_count": null,
   "metadata": {
    "colab": {
     "base_uri": "https://localhost:8080/",
     "height": 259
    },
    "id": "1F3Wdb3NLLB6",
    "outputId": "91d11d0e-78d3-4a91-8bd2-f2347dbbab10"
   },
   "outputs": [],
   "source": [
    "# 8530 training examples\n",
    "# 8530/16 -> np.ceil -> 534 -> 534 * 3 epochs = 1602 steps total.\n",
    "# 8530/8 -> np.ceil -> 3201 -> 3201 * 3 epochs = 3201 steps total.\n",
    "trainer.train()"
   ]
  },
  {
   "cell_type": "markdown",
   "metadata": {
    "id": "FQxNncw7Io62"
   },
   "source": [
    "### Test your model"
   ]
  },
  {
   "cell_type": "code",
   "execution_count": null,
   "metadata": {
    "colab": {
     "base_uri": "https://localhost:8080/",
     "height": 17
    },
    "id": "hJiTRNTE6wAI",
    "outputId": "8624b21a-17bf-45c5-8d82-d69690acab94"
   },
   "outputs": [],
   "source": [
    "test_out = trainer.predict(test_dataset=test_dataset)"
   ]
  },
  {
   "cell_type": "markdown",
   "metadata": {},
   "source": [
    "### In a notebook, don't forget to finish logging to W&B!"
   ]
  },
  {
   "cell_type": "code",
   "execution_count": null,
   "metadata": {},
   "outputs": [],
   "source": [
    "wandb.finish()"
   ]
  },
  {
   "cell_type": "markdown",
   "metadata": {
    "id": "VoSvgTslIqsX"
   },
   "source": [
    "**Examine the elements of your test output**"
   ]
  },
  {
   "cell_type": "code",
   "execution_count": null,
   "metadata": {
    "colab": {
     "base_uri": "https://localhost:8080/"
    },
    "id": "w8maggEI7q1q",
    "outputId": "fbb50409-9f23-4ac7-f7c3-bd7860527761"
   },
   "outputs": [],
   "source": [
    "test_out"
   ]
  },
  {
   "cell_type": "markdown",
   "metadata": {
    "id": "UcxySZ5oIvpk"
   },
   "source": [
    "**Verify the number of positive/negative predictions**"
   ]
  },
  {
   "cell_type": "code",
   "execution_count": null,
   "metadata": {
    "colab": {
     "base_uri": "https://localhost:8080/"
    },
    "id": "oEzRo10P_d0k",
    "outputId": "67cee650-bc90-4fec-c45e-13f01407862a"
   },
   "outputs": [],
   "source": [
    "test_out.predictions.argmax(-1)"
   ]
  },
  {
   "cell_type": "code",
   "execution_count": null,
   "metadata": {
    "colab": {
     "base_uri": "https://localhost:8080/"
    },
    "id": "6gQYgRhkCpDJ",
    "outputId": "2fd46079-d921-4f23-d029-cd7f4496af74"
   },
   "outputs": [],
   "source": [
    "# Count all _predicted_ \"Positive\" classifications\n",
    "np.count_nonzero(test_out.predictions.argmax(-1))"
   ]
  },
  {
   "cell_type": "markdown",
   "metadata": {
    "id": "gDPfEn2BI0Df"
   },
   "source": [
    "**Make a confusion matrix**"
   ]
  },
  {
   "cell_type": "code",
   "execution_count": null,
   "metadata": {
    "colab": {
     "base_uri": "https://localhost:8080/",
     "height": 450
    },
    "id": "O_Y7p5EU9wDC",
    "outputId": "beac83ce-7d07-4eaa-878e-0e5f7f8bea46"
   },
   "outputs": [],
   "source": [
    "# https://en.wikipedia.org/wiki/Confusion_matrix\n",
    "\n",
    "# Our plot shows:\n",
    "# True Negative, False Positive\n",
    "# False Negative, True Positive\n",
    "\n",
    "# https://www.w3schools.com/python/python_ml_confusion_matrix.asp\n",
    "\n",
    "preds = test_out.predictions.argmax(-1)\n",
    "actual = test_out.label_ids\n",
    "\n",
    "# https://scikit-learn.org/stable/modules/generated/sklearn.metrics.confusion_matrix.html#sklearn.metrics.confusion_matrix\n",
    "# tn, fp, fn, tp\n",
    "results_confusion_matrix = metrics.confusion_matrix(actual, preds)\n",
    "\n",
    "cm_display = metrics.ConfusionMatrixDisplay(confusion_matrix=results_confusion_matrix, display_labels = [\"Negative\", \"Positive\"])\n",
    "\n",
    "# Choose different colors: https://matplotlib.org/stable/tutorials/colors/colormaps.html\n",
    "cm_display.plot(cmap='hot')\n",
    "# cm_display.plot(cmap='inferno')\n",
    "# cm_display.plot(cmap='gray')\n",
    "# cm_display.plot(cmap='Reds')\n",
    "# cm_display.plot(cmap='binary')\n",
    "# cm_display.plot(cmap='flag')\n",
    "plt.show()"
   ]
  },
  {
   "cell_type": "markdown",
   "metadata": {},
   "source": [
    "**Examine misclassified examples**"
   ]
  },
  {
   "cell_type": "code",
   "execution_count": null,
   "metadata": {},
   "outputs": [],
   "source": [
    "# create array of indices in test_dataset where examples were misclassified\n",
    "# sum of any misclassified example in a binary classification == 1\n",
    "misclassified = np.argwhere((actual+preds)==1).reshape(-1)\n",
    "print(misclassified[:4],misclassified[-1:-5:-1])\n",
    "\n",
    "print('Positive misclassified as negative:')\n",
    "print('===================================')\n",
    "for i,ex in enumerate(np.concatenate((misclassified[:4],misclassified[-1:-5:-1]))):\n",
    "    if i == 4: \n",
    "        print('\\nNegative misclassified as positive:')\n",
    "        print('===================================\\n')\n",
    "    print(rt['test'][int(ex)]) # cast np.int64 as int"
   ]
  }
 ],
 "metadata": {
  "accelerator": "GPU",
  "colab": {
   "collapsed_sections": [
    "JDL8UfdzH8aO"
   ],
   "provenance": []
  },
  "gpuClass": "standard",
  "kernelspec": {
   "display_name": "Python 3",
   "language": "python",
   "name": "python3"
  },
  "language_info": {
   "codemirror_mode": {
    "name": "ipython",
    "version": 3
   },
   "file_extension": ".py",
   "mimetype": "text/x-python",
   "name": "python",
   "nbconvert_exporter": "python",
   "pygments_lexer": "ipython3",
   "version": "3.8.5"
  },
  "widgets": {
   "application/vnd.jupyter.widget-state+json": {
    "017ac61b655f413684d51657db813066": {
     "model_module": "@jupyter-widgets/controls",
     "model_module_version": "1.5.0",
     "model_name": "HTMLModel",
     "state": {
      "_dom_classes": [],
      "_model_module": "@jupyter-widgets/controls",
      "_model_module_version": "1.5.0",
      "_model_name": "HTMLModel",
      "_view_count": null,
      "_view_module": "@jupyter-widgets/controls",
      "_view_module_version": "1.5.0",
      "_view_name": "HTMLView",
      "description": "",
      "description_tooltip": null,
      "layout": "IPY_MODEL_4150b43cb0914fb58e88bff91c702725",
      "placeholder": "​",
      "style": "IPY_MODEL_d72db16ae1964b5ebafb89926b3382ef",
      "value": "100%"
     }
    },
    "0d7444aaed9d4dbeaca24d21d8ea0263": {
     "model_module": "@jupyter-widgets/controls",
     "model_module_version": "1.5.0",
     "model_name": "HBoxModel",
     "state": {
      "_dom_classes": [],
      "_model_module": "@jupyter-widgets/controls",
      "_model_module_version": "1.5.0",
      "_model_name": "HBoxModel",
      "_view_count": null,
      "_view_module": "@jupyter-widgets/controls",
      "_view_module_version": "1.5.0",
      "_view_name": "HBoxView",
      "box_style": "",
      "children": [
       "IPY_MODEL_017ac61b655f413684d51657db813066",
       "IPY_MODEL_c9c1b41b7824426f88290311d9e3fbf2",
       "IPY_MODEL_7f21672040cf48fa8f3077851dd114e4"
      ],
      "layout": "IPY_MODEL_81157d9a368e4416967a26b914dc3366"
     }
    },
    "2fda9cd0d06f473eacb9bc52a0284e84": {
     "model_module": "@jupyter-widgets/base",
     "model_module_version": "1.2.0",
     "model_name": "LayoutModel",
     "state": {
      "_model_module": "@jupyter-widgets/base",
      "_model_module_version": "1.2.0",
      "_model_name": "LayoutModel",
      "_view_count": null,
      "_view_module": "@jupyter-widgets/base",
      "_view_module_version": "1.2.0",
      "_view_name": "LayoutView",
      "align_content": null,
      "align_items": null,
      "align_self": null,
      "border": null,
      "bottom": null,
      "display": null,
      "flex": null,
      "flex_flow": null,
      "grid_area": null,
      "grid_auto_columns": null,
      "grid_auto_flow": null,
      "grid_auto_rows": null,
      "grid_column": null,
      "grid_gap": null,
      "grid_row": null,
      "grid_template_areas": null,
      "grid_template_columns": null,
      "grid_template_rows": null,
      "height": null,
      "justify_content": null,
      "justify_items": null,
      "left": null,
      "margin": null,
      "max_height": null,
      "max_width": null,
      "min_height": null,
      "min_width": null,
      "object_fit": null,
      "object_position": null,
      "order": null,
      "overflow": null,
      "overflow_x": null,
      "overflow_y": null,
      "padding": null,
      "right": null,
      "top": null,
      "visibility": null,
      "width": null
     }
    },
    "4150b43cb0914fb58e88bff91c702725": {
     "model_module": "@jupyter-widgets/base",
     "model_module_version": "1.2.0",
     "model_name": "LayoutModel",
     "state": {
      "_model_module": "@jupyter-widgets/base",
      "_model_module_version": "1.2.0",
      "_model_name": "LayoutModel",
      "_view_count": null,
      "_view_module": "@jupyter-widgets/base",
      "_view_module_version": "1.2.0",
      "_view_name": "LayoutView",
      "align_content": null,
      "align_items": null,
      "align_self": null,
      "border": null,
      "bottom": null,
      "display": null,
      "flex": null,
      "flex_flow": null,
      "grid_area": null,
      "grid_auto_columns": null,
      "grid_auto_flow": null,
      "grid_auto_rows": null,
      "grid_column": null,
      "grid_gap": null,
      "grid_row": null,
      "grid_template_areas": null,
      "grid_template_columns": null,
      "grid_template_rows": null,
      "height": null,
      "justify_content": null,
      "justify_items": null,
      "left": null,
      "margin": null,
      "max_height": null,
      "max_width": null,
      "min_height": null,
      "min_width": null,
      "object_fit": null,
      "object_position": null,
      "order": null,
      "overflow": null,
      "overflow_x": null,
      "overflow_y": null,
      "padding": null,
      "right": null,
      "top": null,
      "visibility": null,
      "width": null
     }
    },
    "46d975421b034145a34c1c4c961b0957": {
     "model_module": "@jupyter-widgets/controls",
     "model_module_version": "1.5.0",
     "model_name": "HTMLModel",
     "state": {
      "_dom_classes": [],
      "_model_module": "@jupyter-widgets/controls",
      "_model_module_version": "1.5.0",
      "_model_name": "HTMLModel",
      "_view_count": null,
      "_view_module": "@jupyter-widgets/controls",
      "_view_module_version": "1.5.0",
      "_view_name": "HTMLView",
      "description": "",
      "description_tooltip": null,
      "layout": "IPY_MODEL_b9af100acfe14de3bf85f1fda3950296",
      "placeholder": "​",
      "style": "IPY_MODEL_f039ecc6ef634610a5de5306c3ad6f8f",
      "value": " 1066/1066 [00:00&lt;00:00, 2857.87 examples/s]"
     }
    },
    "5b1379ed30024c32a4b737da7f435e4d": {
     "model_module": "@jupyter-widgets/controls",
     "model_module_version": "1.5.0",
     "model_name": "ProgressStyleModel",
     "state": {
      "_model_module": "@jupyter-widgets/controls",
      "_model_module_version": "1.5.0",
      "_model_name": "ProgressStyleModel",
      "_view_count": null,
      "_view_module": "@jupyter-widgets/base",
      "_view_module_version": "1.2.0",
      "_view_name": "StyleView",
      "bar_color": null,
      "description_width": ""
     }
    },
    "6aa446eec19347f69d117383760c970b": {
     "model_module": "@jupyter-widgets/controls",
     "model_module_version": "1.5.0",
     "model_name": "HBoxModel",
     "state": {
      "_dom_classes": [],
      "_model_module": "@jupyter-widgets/controls",
      "_model_module_version": "1.5.0",
      "_model_name": "HBoxModel",
      "_view_count": null,
      "_view_module": "@jupyter-widgets/controls",
      "_view_module_version": "1.5.0",
      "_view_name": "HBoxView",
      "box_style": "",
      "children": [
       "IPY_MODEL_fbf1edb61fff40b9889804d2454cf680",
       "IPY_MODEL_9653f4c447d54cffa6a6beba2340659a",
       "IPY_MODEL_46d975421b034145a34c1c4c961b0957"
      ],
      "layout": "IPY_MODEL_a344962a07784cc2a5961b16183ce8df"
     }
    },
    "6df39ca57b8a4624be95ff377f97be19": {
     "model_module": "@jupyter-widgets/controls",
     "model_module_version": "1.5.0",
     "model_name": "ProgressStyleModel",
     "state": {
      "_model_module": "@jupyter-widgets/controls",
      "_model_module_version": "1.5.0",
      "_model_name": "ProgressStyleModel",
      "_view_count": null,
      "_view_module": "@jupyter-widgets/base",
      "_view_module_version": "1.2.0",
      "_view_name": "StyleView",
      "bar_color": null,
      "description_width": ""
     }
    },
    "7f21672040cf48fa8f3077851dd114e4": {
     "model_module": "@jupyter-widgets/controls",
     "model_module_version": "1.5.0",
     "model_name": "HTMLModel",
     "state": {
      "_dom_classes": [],
      "_model_module": "@jupyter-widgets/controls",
      "_model_module_version": "1.5.0",
      "_model_name": "HTMLModel",
      "_view_count": null,
      "_view_module": "@jupyter-widgets/controls",
      "_view_module_version": "1.5.0",
      "_view_name": "HTMLView",
      "description": "",
      "description_tooltip": null,
      "layout": "IPY_MODEL_a3b9929040ac46fca69c392f44e34519",
      "placeholder": "​",
      "style": "IPY_MODEL_824947ff5b4c4985b39dc2b113358cd7",
      "value": " 3/3 [00:00&lt;00:00, 29.95it/s]"
     }
    },
    "81157d9a368e4416967a26b914dc3366": {
     "model_module": "@jupyter-widgets/base",
     "model_module_version": "1.2.0",
     "model_name": "LayoutModel",
     "state": {
      "_model_module": "@jupyter-widgets/base",
      "_model_module_version": "1.2.0",
      "_model_name": "LayoutModel",
      "_view_count": null,
      "_view_module": "@jupyter-widgets/base",
      "_view_module_version": "1.2.0",
      "_view_name": "LayoutView",
      "align_content": null,
      "align_items": null,
      "align_self": null,
      "border": null,
      "bottom": null,
      "display": null,
      "flex": null,
      "flex_flow": null,
      "grid_area": null,
      "grid_auto_columns": null,
      "grid_auto_flow": null,
      "grid_auto_rows": null,
      "grid_column": null,
      "grid_gap": null,
      "grid_row": null,
      "grid_template_areas": null,
      "grid_template_columns": null,
      "grid_template_rows": null,
      "height": null,
      "justify_content": null,
      "justify_items": null,
      "left": null,
      "margin": null,
      "max_height": null,
      "max_width": null,
      "min_height": null,
      "min_width": null,
      "object_fit": null,
      "object_position": null,
      "order": null,
      "overflow": null,
      "overflow_x": null,
      "overflow_y": null,
      "padding": null,
      "right": null,
      "top": null,
      "visibility": null,
      "width": null
     }
    },
    "824947ff5b4c4985b39dc2b113358cd7": {
     "model_module": "@jupyter-widgets/controls",
     "model_module_version": "1.5.0",
     "model_name": "DescriptionStyleModel",
     "state": {
      "_model_module": "@jupyter-widgets/controls",
      "_model_module_version": "1.5.0",
      "_model_name": "DescriptionStyleModel",
      "_view_count": null,
      "_view_module": "@jupyter-widgets/base",
      "_view_module_version": "1.2.0",
      "_view_name": "StyleView",
      "description_width": ""
     }
    },
    "9653f4c447d54cffa6a6beba2340659a": {
     "model_module": "@jupyter-widgets/controls",
     "model_module_version": "1.5.0",
     "model_name": "FloatProgressModel",
     "state": {
      "_dom_classes": [],
      "_model_module": "@jupyter-widgets/controls",
      "_model_module_version": "1.5.0",
      "_model_name": "FloatProgressModel",
      "_view_count": null,
      "_view_module": "@jupyter-widgets/controls",
      "_view_module_version": "1.5.0",
      "_view_name": "ProgressView",
      "bar_style": "",
      "description": "",
      "description_tooltip": null,
      "layout": "IPY_MODEL_9e9954eb73a24bab9e1134638a151683",
      "max": 1066,
      "min": 0,
      "orientation": "horizontal",
      "style": "IPY_MODEL_6df39ca57b8a4624be95ff377f97be19",
      "value": 1066
     }
    },
    "9e9954eb73a24bab9e1134638a151683": {
     "model_module": "@jupyter-widgets/base",
     "model_module_version": "1.2.0",
     "model_name": "LayoutModel",
     "state": {
      "_model_module": "@jupyter-widgets/base",
      "_model_module_version": "1.2.0",
      "_model_name": "LayoutModel",
      "_view_count": null,
      "_view_module": "@jupyter-widgets/base",
      "_view_module_version": "1.2.0",
      "_view_name": "LayoutView",
      "align_content": null,
      "align_items": null,
      "align_self": null,
      "border": null,
      "bottom": null,
      "display": null,
      "flex": null,
      "flex_flow": null,
      "grid_area": null,
      "grid_auto_columns": null,
      "grid_auto_flow": null,
      "grid_auto_rows": null,
      "grid_column": null,
      "grid_gap": null,
      "grid_row": null,
      "grid_template_areas": null,
      "grid_template_columns": null,
      "grid_template_rows": null,
      "height": null,
      "justify_content": null,
      "justify_items": null,
      "left": null,
      "margin": null,
      "max_height": null,
      "max_width": null,
      "min_height": null,
      "min_width": null,
      "object_fit": null,
      "object_position": null,
      "order": null,
      "overflow": null,
      "overflow_x": null,
      "overflow_y": null,
      "padding": null,
      "right": null,
      "top": null,
      "visibility": null,
      "width": null
     }
    },
    "a344962a07784cc2a5961b16183ce8df": {
     "model_module": "@jupyter-widgets/base",
     "model_module_version": "1.2.0",
     "model_name": "LayoutModel",
     "state": {
      "_model_module": "@jupyter-widgets/base",
      "_model_module_version": "1.2.0",
      "_model_name": "LayoutModel",
      "_view_count": null,
      "_view_module": "@jupyter-widgets/base",
      "_view_module_version": "1.2.0",
      "_view_name": "LayoutView",
      "align_content": null,
      "align_items": null,
      "align_self": null,
      "border": null,
      "bottom": null,
      "display": null,
      "flex": null,
      "flex_flow": null,
      "grid_area": null,
      "grid_auto_columns": null,
      "grid_auto_flow": null,
      "grid_auto_rows": null,
      "grid_column": null,
      "grid_gap": null,
      "grid_row": null,
      "grid_template_areas": null,
      "grid_template_columns": null,
      "grid_template_rows": null,
      "height": null,
      "justify_content": null,
      "justify_items": null,
      "left": null,
      "margin": null,
      "max_height": null,
      "max_width": null,
      "min_height": null,
      "min_width": null,
      "object_fit": null,
      "object_position": null,
      "order": null,
      "overflow": null,
      "overflow_x": null,
      "overflow_y": null,
      "padding": null,
      "right": null,
      "top": null,
      "visibility": "hidden",
      "width": null
     }
    },
    "a3b9929040ac46fca69c392f44e34519": {
     "model_module": "@jupyter-widgets/base",
     "model_module_version": "1.2.0",
     "model_name": "LayoutModel",
     "state": {
      "_model_module": "@jupyter-widgets/base",
      "_model_module_version": "1.2.0",
      "_model_name": "LayoutModel",
      "_view_count": null,
      "_view_module": "@jupyter-widgets/base",
      "_view_module_version": "1.2.0",
      "_view_name": "LayoutView",
      "align_content": null,
      "align_items": null,
      "align_self": null,
      "border": null,
      "bottom": null,
      "display": null,
      "flex": null,
      "flex_flow": null,
      "grid_area": null,
      "grid_auto_columns": null,
      "grid_auto_flow": null,
      "grid_auto_rows": null,
      "grid_column": null,
      "grid_gap": null,
      "grid_row": null,
      "grid_template_areas": null,
      "grid_template_columns": null,
      "grid_template_rows": null,
      "height": null,
      "justify_content": null,
      "justify_items": null,
      "left": null,
      "margin": null,
      "max_height": null,
      "max_width": null,
      "min_height": null,
      "min_width": null,
      "object_fit": null,
      "object_position": null,
      "order": null,
      "overflow": null,
      "overflow_x": null,
      "overflow_y": null,
      "padding": null,
      "right": null,
      "top": null,
      "visibility": null,
      "width": null
     }
    },
    "b121c80fae07494a8bd1801dc4f58cfb": {
     "model_module": "@jupyter-widgets/controls",
     "model_module_version": "1.5.0",
     "model_name": "DescriptionStyleModel",
     "state": {
      "_model_module": "@jupyter-widgets/controls",
      "_model_module_version": "1.5.0",
      "_model_name": "DescriptionStyleModel",
      "_view_count": null,
      "_view_module": "@jupyter-widgets/base",
      "_view_module_version": "1.2.0",
      "_view_name": "StyleView",
      "description_width": ""
     }
    },
    "b9af100acfe14de3bf85f1fda3950296": {
     "model_module": "@jupyter-widgets/base",
     "model_module_version": "1.2.0",
     "model_name": "LayoutModel",
     "state": {
      "_model_module": "@jupyter-widgets/base",
      "_model_module_version": "1.2.0",
      "_model_name": "LayoutModel",
      "_view_count": null,
      "_view_module": "@jupyter-widgets/base",
      "_view_module_version": "1.2.0",
      "_view_name": "LayoutView",
      "align_content": null,
      "align_items": null,
      "align_self": null,
      "border": null,
      "bottom": null,
      "display": null,
      "flex": null,
      "flex_flow": null,
      "grid_area": null,
      "grid_auto_columns": null,
      "grid_auto_flow": null,
      "grid_auto_rows": null,
      "grid_column": null,
      "grid_gap": null,
      "grid_row": null,
      "grid_template_areas": null,
      "grid_template_columns": null,
      "grid_template_rows": null,
      "height": null,
      "justify_content": null,
      "justify_items": null,
      "left": null,
      "margin": null,
      "max_height": null,
      "max_width": null,
      "min_height": null,
      "min_width": null,
      "object_fit": null,
      "object_position": null,
      "order": null,
      "overflow": null,
      "overflow_x": null,
      "overflow_y": null,
      "padding": null,
      "right": null,
      "top": null,
      "visibility": null,
      "width": null
     }
    },
    "c9c1b41b7824426f88290311d9e3fbf2": {
     "model_module": "@jupyter-widgets/controls",
     "model_module_version": "1.5.0",
     "model_name": "FloatProgressModel",
     "state": {
      "_dom_classes": [],
      "_model_module": "@jupyter-widgets/controls",
      "_model_module_version": "1.5.0",
      "_model_name": "FloatProgressModel",
      "_view_count": null,
      "_view_module": "@jupyter-widgets/controls",
      "_view_module_version": "1.5.0",
      "_view_name": "ProgressView",
      "bar_style": "success",
      "description": "",
      "description_tooltip": null,
      "layout": "IPY_MODEL_d3ab4eade62d4e87ab61cabeb53505d2",
      "max": 3,
      "min": 0,
      "orientation": "horizontal",
      "style": "IPY_MODEL_5b1379ed30024c32a4b737da7f435e4d",
      "value": 3
     }
    },
    "d3ab4eade62d4e87ab61cabeb53505d2": {
     "model_module": "@jupyter-widgets/base",
     "model_module_version": "1.2.0",
     "model_name": "LayoutModel",
     "state": {
      "_model_module": "@jupyter-widgets/base",
      "_model_module_version": "1.2.0",
      "_model_name": "LayoutModel",
      "_view_count": null,
      "_view_module": "@jupyter-widgets/base",
      "_view_module_version": "1.2.0",
      "_view_name": "LayoutView",
      "align_content": null,
      "align_items": null,
      "align_self": null,
      "border": null,
      "bottom": null,
      "display": null,
      "flex": null,
      "flex_flow": null,
      "grid_area": null,
      "grid_auto_columns": null,
      "grid_auto_flow": null,
      "grid_auto_rows": null,
      "grid_column": null,
      "grid_gap": null,
      "grid_row": null,
      "grid_template_areas": null,
      "grid_template_columns": null,
      "grid_template_rows": null,
      "height": null,
      "justify_content": null,
      "justify_items": null,
      "left": null,
      "margin": null,
      "max_height": null,
      "max_width": null,
      "min_height": null,
      "min_width": null,
      "object_fit": null,
      "object_position": null,
      "order": null,
      "overflow": null,
      "overflow_x": null,
      "overflow_y": null,
      "padding": null,
      "right": null,
      "top": null,
      "visibility": null,
      "width": null
     }
    },
    "d72db16ae1964b5ebafb89926b3382ef": {
     "model_module": "@jupyter-widgets/controls",
     "model_module_version": "1.5.0",
     "model_name": "DescriptionStyleModel",
     "state": {
      "_model_module": "@jupyter-widgets/controls",
      "_model_module_version": "1.5.0",
      "_model_name": "DescriptionStyleModel",
      "_view_count": null,
      "_view_module": "@jupyter-widgets/base",
      "_view_module_version": "1.2.0",
      "_view_name": "StyleView",
      "description_width": ""
     }
    },
    "f039ecc6ef634610a5de5306c3ad6f8f": {
     "model_module": "@jupyter-widgets/controls",
     "model_module_version": "1.5.0",
     "model_name": "DescriptionStyleModel",
     "state": {
      "_model_module": "@jupyter-widgets/controls",
      "_model_module_version": "1.5.0",
      "_model_name": "DescriptionStyleModel",
      "_view_count": null,
      "_view_module": "@jupyter-widgets/base",
      "_view_module_version": "1.2.0",
      "_view_name": "StyleView",
      "description_width": ""
     }
    },
    "fbf1edb61fff40b9889804d2454cf680": {
     "model_module": "@jupyter-widgets/controls",
     "model_module_version": "1.5.0",
     "model_name": "HTMLModel",
     "state": {
      "_dom_classes": [],
      "_model_module": "@jupyter-widgets/controls",
      "_model_module_version": "1.5.0",
      "_model_name": "HTMLModel",
      "_view_count": null,
      "_view_module": "@jupyter-widgets/controls",
      "_view_module_version": "1.5.0",
      "_view_name": "HTMLView",
      "description": "",
      "description_tooltip": null,
      "layout": "IPY_MODEL_2fda9cd0d06f473eacb9bc52a0284e84",
      "placeholder": "​",
      "style": "IPY_MODEL_b121c80fae07494a8bd1801dc4f58cfb",
      "value": "Map: 100%"
     }
    }
   }
  }
 },
 "nbformat": 4,
 "nbformat_minor": 4
}
